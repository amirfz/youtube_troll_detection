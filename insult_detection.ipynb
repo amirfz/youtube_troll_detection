{
 "cells": [
  {
   "cell_type": "code",
   "execution_count": 28,
   "metadata": {
    "collapsed": false
   },
   "outputs": [],
   "source": [
    "import numpy as np\n",
    "import pandas as pd\n",
    "import matplotlib.pyplot as plt\n",
    "import nltk\n",
    "from nltk.corpus import stopwords\n",
    "from nltk.stem import PorterStemmer\n",
    "import re\n",
    "import seaborn as sns\n",
    "\n",
    "%matplotlib inline"
   ]
  },
  {
   "cell_type": "markdown",
   "metadata": {},
   "source": [
    "## read in the data"
   ]
  },
  {
   "cell_type": "code",
   "execution_count": 29,
   "metadata": {
    "collapsed": false
   },
   "outputs": [],
   "source": [
    "data = pd.read_csv('youtube-comments.csv')"
   ]
  },
  {
   "cell_type": "code",
   "execution_count": 30,
   "metadata": {
    "collapsed": false
   },
   "outputs": [
    {
     "data": {
      "text/html": [
       "<div>\n",
       "<table border=\"1\" class=\"dataframe\">\n",
       "  <thead>\n",
       "    <tr style=\"text-align: right;\">\n",
       "      <th></th>\n",
       "      <th>comment</th>\n",
       "      <th>troll</th>\n",
       "      <th>title</th>\n",
       "      <th>views</th>\n",
       "      <th>dislikes</th>\n",
       "      <th>commentCount</th>\n",
       "      <th>likes</th>\n",
       "      <th>replies</th>\n",
       "      <th>id</th>\n",
       "    </tr>\n",
       "  </thead>\n",
       "  <tbody>\n",
       "    <tr>\n",
       "      <th>0</th>\n",
       "      <td>What a lucky guy, got celebrated birthday on c...</td>\n",
       "      <td>0</td>\n",
       "      <td>Nothing Compares 2 U (Live in LA w/ James Corden)</td>\n",
       "      <td>469414</td>\n",
       "      <td>263</td>\n",
       "      <td>1123</td>\n",
       "      <td>19392</td>\n",
       "      <td>0</td>\n",
       "      <td>mak_Cu9Wl6w</td>\n",
       "    </tr>\n",
       "    <tr>\n",
       "      <th>1</th>\n",
       "      <td>Love it﻿</td>\n",
       "      <td>0</td>\n",
       "      <td>Nothing Compares 2 U (Live in LA w/ James Corden)</td>\n",
       "      <td>469414</td>\n",
       "      <td>263</td>\n",
       "      <td>1123</td>\n",
       "      <td>19392</td>\n",
       "      <td>0</td>\n",
       "      <td>mak_Cu9Wl6w</td>\n",
       "    </tr>\n",
       "    <tr>\n",
       "      <th>2</th>\n",
       "      <td>no americans even knew who corden was several ...</td>\n",
       "      <td>0</td>\n",
       "      <td>Nothing Compares 2 U (Live in LA w/ James Corden)</td>\n",
       "      <td>469414</td>\n",
       "      <td>263</td>\n",
       "      <td>1123</td>\n",
       "      <td>19392</td>\n",
       "      <td>0</td>\n",
       "      <td>mak_Cu9Wl6w</td>\n",
       "    </tr>\n",
       "    <tr>\n",
       "      <th>3</th>\n",
       "      <td>my birthday was the 22nd as well and we both s...</td>\n",
       "      <td>0</td>\n",
       "      <td>Nothing Compares 2 U (Live in LA w/ James Corden)</td>\n",
       "      <td>469414</td>\n",
       "      <td>263</td>\n",
       "      <td>1123</td>\n",
       "      <td>19392</td>\n",
       "      <td>0</td>\n",
       "      <td>mak_Cu9Wl6w</td>\n",
       "    </tr>\n",
       "    <tr>\n",
       "      <th>4</th>\n",
       "      <td>OMG IM CRYING﻿</td>\n",
       "      <td>0</td>\n",
       "      <td>Nothing Compares 2 U (Live in LA w/ James Corden)</td>\n",
       "      <td>469414</td>\n",
       "      <td>263</td>\n",
       "      <td>1123</td>\n",
       "      <td>19392</td>\n",
       "      <td>0</td>\n",
       "      <td>mak_Cu9Wl6w</td>\n",
       "    </tr>\n",
       "  </tbody>\n",
       "</table>\n",
       "</div>"
      ],
      "text/plain": [
       "                                             comment  troll  \\\n",
       "0  What a lucky guy, got celebrated birthday on c...      0   \n",
       "1                                           Love it﻿      0   \n",
       "2  no americans even knew who corden was several ...      0   \n",
       "3  my birthday was the 22nd as well and we both s...      0   \n",
       "4                                     OMG IM CRYING﻿      0   \n",
       "\n",
       "                                               title   views  dislikes  \\\n",
       "0  Nothing Compares 2 U (Live in LA w/ James Corden)  469414       263   \n",
       "1  Nothing Compares 2 U (Live in LA w/ James Corden)  469414       263   \n",
       "2  Nothing Compares 2 U (Live in LA w/ James Corden)  469414       263   \n",
       "3  Nothing Compares 2 U (Live in LA w/ James Corden)  469414       263   \n",
       "4  Nothing Compares 2 U (Live in LA w/ James Corden)  469414       263   \n",
       "\n",
       "   commentCount  likes  replies           id  \n",
       "0          1123  19392        0  mak_Cu9Wl6w  \n",
       "1          1123  19392        0  mak_Cu9Wl6w  \n",
       "2          1123  19392        0  mak_Cu9Wl6w  \n",
       "3          1123  19392        0  mak_Cu9Wl6w  \n",
       "4          1123  19392        0  mak_Cu9Wl6w  "
      ]
     },
     "execution_count": 30,
     "metadata": {},
     "output_type": "execute_result"
    }
   ],
   "source": [
    "data.head()"
   ]
  },
  {
   "cell_type": "markdown",
   "metadata": {},
   "source": [
    "## cleaning the text"
   ]
  },
  {
   "cell_type": "code",
   "execution_count": 31,
   "metadata": {
    "collapsed": true
   },
   "outputs": [],
   "source": [
    "def cleaner(text):\n",
    "    '''Function to clean the text data and prep for further analysis'''\n",
    "    stops = set(stopwords.words(\"english\"))     # Creating a set of Stopwords\n",
    "    p_stemmer = PorterStemmer()                 # Creating the stemmer model\n",
    "    text = re.sub(\"[^a-zA-Z]\",\" \",text)          # Removes punctuation\n",
    "    text = text.split()                          # Splits the data into individual words \n",
    "    text = [w for w in text if not w in stops]   # Removes stopwords\n",
    "    text = [p_stemmer.stem(i) for i in text]     # Stemming (reducing words to their root)\n",
    "    return ' '.join(text)"
   ]
  },
  {
   "cell_type": "code",
   "execution_count": 32,
   "metadata": {
    "collapsed": false
   },
   "outputs": [],
   "source": [
    "data['clean'] = data['comment'].apply(cleaner)"
   ]
  },
  {
   "cell_type": "code",
   "execution_count": 33,
   "metadata": {
    "collapsed": false
   },
   "outputs": [
    {
     "data": {
      "text/html": [
       "<div>\n",
       "<table border=\"1\" class=\"dataframe\">\n",
       "  <thead>\n",
       "    <tr style=\"text-align: right;\">\n",
       "      <th></th>\n",
       "      <th>comment</th>\n",
       "      <th>troll</th>\n",
       "      <th>title</th>\n",
       "      <th>views</th>\n",
       "      <th>dislikes</th>\n",
       "      <th>commentCount</th>\n",
       "      <th>likes</th>\n",
       "      <th>replies</th>\n",
       "      <th>id</th>\n",
       "      <th>clean</th>\n",
       "    </tr>\n",
       "  </thead>\n",
       "  <tbody>\n",
       "    <tr>\n",
       "      <th>0</th>\n",
       "      <td>What a lucky guy, got celebrated birthday on c...</td>\n",
       "      <td>0</td>\n",
       "      <td>Nothing Compares 2 U (Live in LA w/ James Corden)</td>\n",
       "      <td>469414</td>\n",
       "      <td>263</td>\n",
       "      <td>1123</td>\n",
       "      <td>19392</td>\n",
       "      <td>0</td>\n",
       "      <td>mak_Cu9Wl6w</td>\n",
       "      <td>What lucki guy got celebr birthday concert bil...</td>\n",
       "    </tr>\n",
       "    <tr>\n",
       "      <th>1</th>\n",
       "      <td>Love it﻿</td>\n",
       "      <td>0</td>\n",
       "      <td>Nothing Compares 2 U (Live in LA w/ James Corden)</td>\n",
       "      <td>469414</td>\n",
       "      <td>263</td>\n",
       "      <td>1123</td>\n",
       "      <td>19392</td>\n",
       "      <td>0</td>\n",
       "      <td>mak_Cu9Wl6w</td>\n",
       "      <td>Love</td>\n",
       "    </tr>\n",
       "    <tr>\n",
       "      <th>2</th>\n",
       "      <td>no americans even knew who corden was several ...</td>\n",
       "      <td>0</td>\n",
       "      <td>Nothing Compares 2 U (Live in LA w/ James Corden)</td>\n",
       "      <td>469414</td>\n",
       "      <td>263</td>\n",
       "      <td>1123</td>\n",
       "      <td>19392</td>\n",
       "      <td>0</td>\n",
       "      <td>mak_Cu9Wl6w</td>\n",
       "      <td>american even knew corden sever year ago</td>\n",
       "    </tr>\n",
       "    <tr>\n",
       "      <th>3</th>\n",
       "      <td>my birthday was the 22nd as well and we both s...</td>\n",
       "      <td>0</td>\n",
       "      <td>Nothing Compares 2 U (Live in LA w/ James Corden)</td>\n",
       "      <td>469414</td>\n",
       "      <td>263</td>\n",
       "      <td>1123</td>\n",
       "      <td>19392</td>\n",
       "      <td>0</td>\n",
       "      <td>mak_Cu9Wl6w</td>\n",
       "      <td>birthday nd well support west ham</td>\n",
       "    </tr>\n",
       "    <tr>\n",
       "      <th>4</th>\n",
       "      <td>OMG IM CRYING﻿</td>\n",
       "      <td>0</td>\n",
       "      <td>Nothing Compares 2 U (Live in LA w/ James Corden)</td>\n",
       "      <td>469414</td>\n",
       "      <td>263</td>\n",
       "      <td>1123</td>\n",
       "      <td>19392</td>\n",
       "      <td>0</td>\n",
       "      <td>mak_Cu9Wl6w</td>\n",
       "      <td>OMG IM CRi</td>\n",
       "    </tr>\n",
       "  </tbody>\n",
       "</table>\n",
       "</div>"
      ],
      "text/plain": [
       "                                             comment  troll  \\\n",
       "0  What a lucky guy, got celebrated birthday on c...      0   \n",
       "1                                           Love it﻿      0   \n",
       "2  no americans even knew who corden was several ...      0   \n",
       "3  my birthday was the 22nd as well and we both s...      0   \n",
       "4                                     OMG IM CRYING﻿      0   \n",
       "\n",
       "                                               title   views  dislikes  \\\n",
       "0  Nothing Compares 2 U (Live in LA w/ James Corden)  469414       263   \n",
       "1  Nothing Compares 2 U (Live in LA w/ James Corden)  469414       263   \n",
       "2  Nothing Compares 2 U (Live in LA w/ James Corden)  469414       263   \n",
       "3  Nothing Compares 2 U (Live in LA w/ James Corden)  469414       263   \n",
       "4  Nothing Compares 2 U (Live in LA w/ James Corden)  469414       263   \n",
       "\n",
       "   commentCount  likes  replies           id  \\\n",
       "0          1123  19392        0  mak_Cu9Wl6w   \n",
       "1          1123  19392        0  mak_Cu9Wl6w   \n",
       "2          1123  19392        0  mak_Cu9Wl6w   \n",
       "3          1123  19392        0  mak_Cu9Wl6w   \n",
       "4          1123  19392        0  mak_Cu9Wl6w   \n",
       "\n",
       "                                               clean  \n",
       "0  What lucki guy got celebr birthday concert bil...  \n",
       "1                                               Love  \n",
       "2           american even knew corden sever year ago  \n",
       "3                  birthday nd well support west ham  \n",
       "4                                         OMG IM CRi  "
      ]
     },
     "execution_count": 33,
     "metadata": {},
     "output_type": "execute_result"
    }
   ],
   "source": [
    "data.head()"
   ]
  },
  {
   "cell_type": "markdown",
   "metadata": {},
   "source": [
    "## using tf-idf to convert the clean comments to a matrix of freq's"
   ]
  },
  {
   "cell_type": "code",
   "execution_count": 34,
   "metadata": {
    "collapsed": false
   },
   "outputs": [],
   "source": [
    "from sklearn.feature_extraction.text import TfidfVectorizer\n",
    "from sklearn import preprocessing"
   ]
  },
  {
   "cell_type": "code",
   "execution_count": 35,
   "metadata": {
    "collapsed": false
   },
   "outputs": [],
   "source": [
    "vectorizer = TfidfVectorizer(lowercase=False,\n",
    "                             analyzer=u'word',\n",
    "                             ngram_range=(1, 3),\n",
    "                             stop_words='english',\n",
    "                             binary=False,\n",
    "                             norm=u'l2', \n",
    "                             use_idf=True, \n",
    "                             smooth_idf=True, \n",
    "                             sublinear_tf=True)\n",
    "X = vectorizer.fit_transform(data.clean)"
   ]
  },
  {
   "cell_type": "code",
   "execution_count": 36,
   "metadata": {
    "collapsed": false
   },
   "outputs": [
    {
     "data": {
      "text/plain": [
       "(3935, 54000)"
      ]
     },
     "execution_count": 36,
     "metadata": {},
     "output_type": "execute_result"
    }
   ],
   "source": [
    "X.shape"
   ]
  },
  {
   "cell_type": "markdown",
   "metadata": {},
   "source": [
    "## creating labels"
   ]
  },
  {
   "cell_type": "code",
   "execution_count": 37,
   "metadata": {
    "collapsed": false
   },
   "outputs": [],
   "source": [
    "le = preprocessing.LabelEncoder()\n",
    "le.fit(data.troll.values)\n",
    "Y = le.transform(data.troll.values) "
   ]
  },
  {
   "cell_type": "markdown",
   "metadata": {},
   "source": [
    "## defining a classifier function"
   ]
  },
  {
   "cell_type": "markdown",
   "metadata": {},
   "source": [
    "the fact that only 10% of the data is trolls means that maybe an anamoly detection approach would perform better, this is taken care of by giving the classifier the flag class_weight='balanced' that ensures a balanced sampling of the input data"
   ]
  },
  {
   "cell_type": "code",
   "execution_count": 38,
   "metadata": {
    "collapsed": false
   },
   "outputs": [],
   "source": [
    "from sklearn.ensemble import RandomForestClassifier\n",
    "from sklearn.model_selection import train_test_split\n",
    "from sklearn.metrics import confusion_matrix\n",
    "\n",
    "def model_rfc(X, Y, troll):\n",
    "    X_train, X_test, y_train, y_test = train_test_split(X, Y, train_size=.80)\n",
    "    \n",
    "    clf = RandomForestClassifier(n_estimators=100, class_weight='balanced')\n",
    "    clf.fit(X_train, y_train)\n",
    "    clf_probs = np.dot(clf.predict_proba(X_test)>0.5, np.array([0, 1]))\n",
    "    \n",
    "    score = confusion_matrix(y_test, clf_probs)\n",
    "    \n",
    "    print('confidence matrix:')\n",
    "    print(score)\n",
    "    plt.bar(range(X.shape[1]), clf.feature_importances_)\n",
    "    \n",
    "    clf_labels = np.dot(clf.predict_proba(X)>0.5, np.array([0, 1]))\n",
    "    print('False Positives:')\n",
    "    print('================')\n",
    "    print(data['comment'][(clf_labels==1) & (troll==0)])\n",
    "    print('False Negatives:')\n",
    "    print('================')\n",
    "    print(data['comment'][(clf_labels==0) & (troll==1)])\n",
    "    \n",
    "    return "
   ]
  },
  {
   "cell_type": "markdown",
   "metadata": {},
   "source": [
    "## dimensionality reduction"
   ]
  },
  {
   "cell_type": "markdown",
   "metadata": {},
   "source": [
    "tf-idf vectorizer gives around 5500 words (columns) and that's more than the number of rows, and since most words are redundant anyway it is important to reduce the dimensionality of the problem"
   ]
  },
  {
   "cell_type": "markdown",
   "metadata": {},
   "source": [
    "### Variance Threshold "
   ]
  },
  {
   "cell_type": "code",
   "execution_count": 39,
   "metadata": {
    "collapsed": false
   },
   "outputs": [
    {
     "data": {
      "text/plain": [
       "[<matplotlib.lines.Line2D at 0xb5a0550>]"
      ]
     },
     "execution_count": 39,
     "metadata": {},
     "output_type": "execute_result"
    },
    {
     "data": {
      "image/png": "[encoded data removed]",
      "text/plain": [
       "<matplotlib.figure.Figure at 0xc4815c0>"
      ]
     },
     "metadata": {},
     "output_type": "display_data"
    }
   ],
   "source": [
    "plt.plot(np.var(X.toarray(), axis=0))"
   ]
  },
  {
   "cell_type": "code",
   "execution_count": 40,
   "metadata": {
    "collapsed": true
   },
   "outputs": [],
   "source": [
    "from sklearn.feature_selection import VarianceThreshold "
   ]
  },
  {
   "cell_type": "code",
   "execution_count": 41,
   "metadata": {
    "collapsed": false
   },
   "outputs": [],
   "source": [
    "sel = VarianceThreshold(threshold=0.0005)\n",
    "X_var = sel.fit_transform(X)"
   ]
  },
  {
   "cell_type": "code",
   "execution_count": 42,
   "metadata": {
    "collapsed": false
   },
   "outputs": [
    {
     "data": {
      "text/plain": [
       "(3935, 83)"
      ]
     },
     "execution_count": 42,
     "metadata": {},
     "output_type": "execute_result"
    }
   ],
   "source": [
    "X_var.shape"
   ]
  },
  {
   "cell_type": "code",
   "execution_count": 71,
   "metadata": {
    "collapsed": false
   },
   "outputs": [
    {
     "data": {
      "text/plain": [
       "array([[ 0.,  0.,  0., ...,  0.,  0.,  0.],\n",
       "       [ 0.,  0.,  0., ...,  0.,  0.,  0.],\n",
       "       [ 0.,  0.,  0., ...,  0.,  0.,  0.],\n",
       "       ..., \n",
       "       [ 0.,  0.,  0., ...,  0.,  0.,  0.],\n",
       "       [ 0.,  0.,  0., ...,  0.,  0.,  0.],\n",
       "       [ 0.,  0.,  0., ...,  0.,  0.,  0.]])"
      ]
     },
     "execution_count": 71,
     "metadata": {},
     "output_type": "execute_result"
    }
   ],
   "source": [
    "sel.inverse_transform(X_var).toarray()"
   ]
  },
  {
   "cell_type": "markdown",
   "metadata": {},
   "source": [
    "### PCA"
   ]
  },
  {
   "cell_type": "code",
   "execution_count": 43,
   "metadata": {
    "collapsed": true
   },
   "outputs": [],
   "source": [
    "from sklearn import decomposition"
   ]
  },
  {
   "cell_type": "code",
   "execution_count": 44,
   "metadata": {
    "collapsed": false
   },
   "outputs": [
    {
     "name": "stdout",
     "output_type": "stream",
     "text": [
      "Wall time: 33 s\n"
     ]
    }
   ],
   "source": [
    "%%time\n",
    "\n",
    "pca = decomposition.PCA(n_components=100)\n",
    "pca.fit(X.toarray())\n",
    "#data_pca = pca.transform(X)"
   ]
  },
  {
   "cell_type": "code",
   "execution_count": 45,
   "metadata": {
    "collapsed": false
   },
   "outputs": [
    {
     "data": {
      "text/plain": [
       "[<matplotlib.lines.Line2D at 0xc925940>]"
      ]
     },
     "execution_count": 45,
     "metadata": {},
     "output_type": "execute_result"
    },
    {
     "data": {
      "image/png": "[encoded data removed]",
      "text/plain": [
       "<matplotlib.figure.Figure at 0xc481438>"
      ]
     },
     "metadata": {},
     "output_type": "display_data"
    }
   ],
   "source": [
    "plt.plot(pca.explained_variance_ratio_)"
   ]
  },
  {
   "cell_type": "code",
   "execution_count": 46,
   "metadata": {
    "collapsed": false
   },
   "outputs": [
    {
     "name": "stdout",
     "output_type": "stream",
     "text": [
      "Wall time: 16.2 s\n"
     ]
    }
   ],
   "source": [
    "%%time\n",
    "\n",
    "pca = decomposition.PCA(n_components=10)\n",
    "pca.fit(X.toarray())\n",
    "X_pca = pca.transform(X.toarray())"
   ]
  },
  {
   "cell_type": "markdown",
   "metadata": {},
   "source": [
    "## classifying using var threshold"
   ]
  },
  {
   "cell_type": "code",
   "execution_count": 69,
   "metadata": {
    "collapsed": false
   },
   "outputs": [
    {
     "name": "stdout",
     "output_type": "stream",
     "text": [
      "confidence matrix:\n",
      "[[686  18]\n",
      " [ 67  16]]\n",
      "False Positives:\n",
      "================\n",
      "156                                          wwe is fake﻿\n",
      "186                                                   No﻿\n",
      "288     If the 10 Commandments Were Written Today it w...\n",
      "354                            whooooooooopie fucking do﻿\n",
      "435                                                  wtf﻿\n",
      "766                                                  wtf﻿\n",
      "905     I think she wanted to kill her self she couldn...\n",
      "1533                           this is fucking hilarious﻿\n",
      "1537                             hahahaaaaa  Good video!﻿\n",
      "1539                                   He&#39;s a wizard﻿\n",
      "1767                               he looks like zoom!!!﻿\n",
      "1925                                      ohhhhhhhh shit﻿\n",
      "1965                         All these jokes are so shit﻿\n",
      "1973                                          Holy shit!﻿\n",
      "2600                               Wtf the stepped on it﻿\n",
      "2640                               what the fuck is that﻿\n",
      "2660                                     Fucking bogging﻿\n",
      "2807    Wow! I totally believed this wasn&#39;t a shit...\n",
      "2815                                       fucking 10/10﻿\n",
      "2829                                                 Wtf﻿\n",
      "2860            Amanda Bines needs to be alerted to this﻿\n",
      "2929    Lets all keep on going down the path of destru...\n",
      "3066                           our ozone layer is fucked﻿\n",
      "3201    Filmed sideways like a dumb retard from the Un...\n",
      "3492                      Roided to the fucking eyeballs﻿\n",
      "3494                        Brock can kill anyone in ufc﻿\n",
      "3604    &quot;we&#39;re sent to bed..., but we&#39;re ...\n",
      "Name: comment, dtype: object\n",
      "False Negatives:\n",
      "================\n",
      "57                                         fecking awful﻿\n",
      "259                  kys college humor you&#39;re cancer﻿\n",
      "307                                        cheating scum﻿\n",
      "308                                               nigger﻿\n",
      "322                            FUCK YOU CHINA WE GOT 2ND﻿\n",
      "339     this nigga was the cause of my dad getting &qu...\n",
      "464              Another shitty female lead action movie﻿\n",
      "467     I don&#39;t think I can survive two hours of H...\n",
      "592     Why is this kind of stuff on YouTube. It&#39;s...\n",
      "740                                     waste of my time﻿\n",
      "744                                 what the actual fuck﻿\n",
      "831                           dafuck is this. no just no﻿\n",
      "832     Miley completely and utterly destroyed a classic﻿\n",
      "836     They all suck they should take notes from Jaco...\n",
      "852                                               sucked﻿\n",
      "891                                   I wish she drowned﻿\n",
      "893     Jumping off a boat into WATER is news these da...\n",
      "895     I hope that bitch drowns, that black lives mat...\n",
      "898     I would love to ram the big man right up her h...\n",
      "899     It&#39;s a shame this racist bitch came back u...\n",
      "907                               Black people cant swim﻿\n",
      "923     looks like shes shes still useing milk bleach ...\n",
      "935                           everyone at t mz are cunts﻿\n",
      "940     this is news to you?  WHO THE FUCK CARES FOR T...\n",
      "942     Imagine being stuck in a room with all those c...\n",
      "944                             tmz are sycophantic scum﻿\n",
      "948     Wouldn&#39;t it be great if that yacht fell th...\n",
      "955                                           nigga sank﻿\n",
      "958                                   she looks very fat﻿\n",
      "959              So fat and stiff looking, actual whelp.﻿\n",
      "                              ...                        \n",
      "3005                                  Hiddious  Rosie O.﻿\n",
      "3077                 it stunk years ago and still stinks﻿\n",
      "3103    Steve Job was an asshoe and only asshoes buy a...\n",
      "3134                         OWNED! Talk bout assrape :)﻿\n",
      "3371                                three pointer retard﻿\n",
      "3386                                              retard﻿\n",
      "3390                              yer off ya fuckin head﻿\n",
      "3396                                         Bullshit!!!﻿\n",
      "3413                                         Sad prick 😂﻿\n",
      "3418                                       Go die stupid﻿\n",
      "3449                                 Cheating lying cunt﻿\n",
      "3451                                Definitely a cunt...﻿\n",
      "3456    OF COURSE THESE RETARDED WWE GUYS DONT KNOW WH...\n",
      "3471                                    Cheating scumbag﻿\n",
      "3485                                Steroid using coward﻿\n",
      "3488                  put more roids in your ass cheater﻿\n",
      "3490    NATE DIAZ HIT THE DECK 3 TIMES LIKE A BITCH. Q...\n",
      "3503    Roid head.. Im not surprise if this dude die o...\n",
      "3504    PATHETIC BASEMENT DWELLING VIRGINS DEFENDING H...\n",
      "3506                                             cheater﻿\n",
      "3509    THESE FAGGOTS ARE COMMENTING SAYING HE WOULD B...\n",
      "3511    COMPLETE DISGUSTING JUICED UP BITCH, ALL HIS F...\n",
      "3516                                     Complete douche﻿\n",
      "3518                                        Ha ha douche﻿\n",
      "3736                               Surprise dumb fucker!﻿\n",
      "3737                        Suprise suprise motherfucker﻿\n",
      "3749           Gilbert is a fucking bum lol. so annoying﻿\n",
      "3784                      conors fucken lame. and scared﻿\n",
      "3825    Conor is such a little bitch. He&#39;s going t...\n",
      "3912                                     Trudeau=A$$H0LE﻿\n",
      "Name: comment, dtype: object\n"
     ]
    },
    {
     "data": {
      "image/png": "[encoded data removed]",
      "text/plain": [
       "<matplotlib.figure.Figure at 0xcda2d30>"
      ]
     },
     "metadata": {},
     "output_type": "display_data"
    }
   ],
   "source": [
    "model_rfc(X_var, Y, data.troll)"
   ]
  },
  {
   "cell_type": "markdown",
   "metadata": {},
   "source": [
    "## classifying using the result of PCA"
   ]
  },
  {
   "cell_type": "code",
   "execution_count": 66,
   "metadata": {
    "collapsed": false
   },
   "outputs": [
    {
     "name": "stdout",
     "output_type": "stream",
     "text": [
      "confidence matrix:\n",
      "[[710   6]\n",
      " [ 65   6]]\n",
      "False Positives:\n",
      "================\n",
      "186                                                   No﻿\n",
      "435                                                  wtf﻿\n",
      "766                                                  wtf﻿\n",
      "2574                      ahahah Scots ate fucking funny﻿\n",
      "2592      Dude that&#39;s fucking sad. Rip little angel.﻿\n",
      "2640                               what the fuck is that﻿\n",
      "2656    Why so many people making jokes about this, th...\n",
      "2660                                     Fucking bogging﻿\n",
      "2815                                       fucking 10/10﻿\n",
      "2829                                                 Wtf﻿\n",
      "3430           He can stay out of mma dirty juice monkey﻿\n",
      "3759    all you dumb bitches who said nate was going t...\n",
      "Name: comment, dtype: object\n",
      "False Negatives:\n",
      "================\n",
      "308                                               nigger﻿\n",
      "464              Another shitty female lead action movie﻿\n",
      "466     Dafaq is this shit? Its exactly the same as th...\n",
      "738                                    how is this funny﻿\n",
      "770     This shit was trending when it had 2k views. S...\n",
      "831                           dafuck is this. no just no﻿\n",
      "907                               Black people cant swim﻿\n",
      "914                          Man she&#39;s ugly as fuck.﻿\n",
      "938                               she looks like a whale﻿\n",
      "940     this is news to you?  WHO THE FUCK CARES FOR T...\n",
      "954     Why the fuck are you using feet, wtf is 30 ft ...\n",
      "962     What she said wasn&#39;t even funny and they w...\n",
      "1143    Bruh. I&#39;m so glad I&#39;m still a virgin l...\n",
      "1148               I just came to Dislike the Video..bye﻿\n",
      "1149    I swear black boys will Fuck anything. they co...\n",
      "1153    this bitch clearly lying through her teeth she...\n",
      "1172    just wasted 2 minutes of my time when i could&...\n",
      "1176    Only rich black men make these thots /side bit...\n",
      "1289                             Nate has to be autistic﻿\n",
      "1292    &quot;Surprise, Surprise Mother fuker. The Kin...\n",
      "1318    nate diaz sounds like key and peeles slap ass ...\n",
      "1338    all diaz haters eat fat shit with a dick on to...\n",
      "1688                                Wtf did i just watch﻿\n",
      "1717                                            DUMBASS!﻿\n",
      "1723    He is the worst of the worst and should never ...\n",
      "1733    So when that bitch Hillary Clinton lies Yall a...\n",
      "1739    He may be a great swimmer, but brainless.  Wha...\n",
      "1743         Haha idiot. Can&#39;t take him seriously 😂😂﻿\n",
      "1755                                                lyar﻿\n",
      "1764                                        WHAT A TOOL.﻿\n",
      "                              ...                        \n",
      "2166    You had one job kid. Now you gotta do Allahu A...\n",
      "2184                    I bet they raped him afterwards.﻿\n",
      "2185                ENGLISH MOTHERFUCKA DO YOU SPEAK IT!﻿\n",
      "2231                                      Hes an asshole﻿\n",
      "2256                                               Trash﻿\n",
      "2293                                    total prick!!!!!﻿\n",
      "2423                               Bunch of Cum Buckets.﻿\n",
      "2424    Someone hold my eyelids open while I pour some...\n",
      "2587    Filmed sideways like a dumb retard from the Un...\n",
      "2602    This is so fucked up, why would you film verti...\n",
      "2753    HOW COULD THOSE TWO PIG SKIN TURDS BE SO FREAK...\n",
      "2858                   I can finally enjoy eating ASS!!!﻿\n",
      "2920    did that house niggard just say black people a...\n",
      "3298                              I&#39;m fucking stoked﻿\n",
      "3347                      What is this fucking bull shit﻿\n",
      "3357                                     Bull. Shit. lol﻿\n",
      "3373    disliked before watching you fucking illuminat...\n",
      "3378    &quot;Jesus said...&quot; Shut the fuck up. Di...\n",
      "3386                                              retard﻿\n",
      "3464                   Fuck off you mad fuckin juicehead﻿\n",
      "3466               I take shits bigger than Brock Lesnar﻿\n",
      "3471                                    Cheating scumbag﻿\n",
      "3493    Stay the fuck out of my sport cheating piece o...\n",
      "3503    Roid head.. Im not surprise if this dude die o...\n",
      "3506                                             cheater﻿\n",
      "3723                           What a cunt at the end...﻿\n",
      "3724                           What a bellend maguire is﻿\n",
      "3732    Conor: Fuck Diaz&#39;s team... and if you don&...\n",
      "3737                        Suprise suprise motherfucker﻿\n",
      "3784                      conors fucken lame. and scared﻿\n",
      "Name: comment, dtype: object\n"
     ]
    },
    {
     "data": {
      "image/png": "[encoded data removed]",
      "text/plain": [
       "<matplotlib.figure.Figure at 0xc0d5198>"
      ]
     },
     "metadata": {},
     "output_type": "display_data"
    }
   ],
   "source": [
    "model_rfc(X_pca, Y, data.troll)"
   ]
  },
  {
   "cell_type": "markdown",
   "metadata": {},
   "source": [
    "## creating new features based on the length of the comment etc"
   ]
  },
  {
   "cell_type": "code",
   "execution_count": 48,
   "metadata": {
    "collapsed": true
   },
   "outputs": [],
   "source": [
    "def bad_word_counter(text):\n",
    "    bad_words = pd.read_csv('google_badlist.txt', header=None).values\n",
    "    return len([w for w in text.split() if w in bad_words])"
   ]
  },
  {
   "cell_type": "code",
   "execution_count": 49,
   "metadata": {
    "collapsed": true
   },
   "outputs": [],
   "source": [
    "def transform(documents):\n",
    "    ## some handcrafted features!\n",
    "    n_words = [len(c.split()) for c in documents]\n",
    "    n_chars = [len(c) for c in documents]\n",
    "    # number of uppercase words\n",
    "    allcaps = [np.sum([w.isupper() for w in comment.split()])\n",
    "           for comment in documents]\n",
    "    # longest word\n",
    "    max_word_len = [np.max([len(w) for w in c.split()]) for c in documents]\n",
    "    # average word length\n",
    "    mean_word_len = [np.mean([len(w) for w in c.split()])\n",
    "                                        for c in documents]\n",
    "    # number of google badwords:\n",
    "    n_bad = [bad_word_counter(c) for c in documents]\n",
    "    exclamation = [c.count(\"!\") for c in documents]\n",
    "    addressing = [c.count(\"@\") for c in documents]\n",
    "    spaces = [c.count(\" \") for c in documents]\n",
    "\n",
    "    allcaps_ratio = np.array(allcaps) / np.array(n_words, dtype=np.float)\n",
    "    bad_ratio = np.array(n_bad) / np.array(n_words, dtype=np.float)\n",
    "    \n",
    "    counts = np.array([n_words, n_chars, allcaps, max_word_len,\n",
    "                       mean_word_len, exclamation, addressing, spaces,\n",
    "                       n_bad]).T\n",
    "    ratios = np.array([allcaps_ratio, bad_ratio]).T\n",
    "\n",
    "    return counts, ratios"
   ]
  },
  {
   "cell_type": "markdown",
   "metadata": {},
   "source": [
    "## classifying based on the features like the length of the comment etc"
   ]
  },
  {
   "cell_type": "code",
   "execution_count": 50,
   "metadata": {
    "collapsed": true
   },
   "outputs": [],
   "source": [
    "from sklearn.preprocessing import scale"
   ]
  },
  {
   "cell_type": "code",
   "execution_count": 51,
   "metadata": {
    "collapsed": true
   },
   "outputs": [],
   "source": [
    "counts, ratios = transform(data.comment)"
   ]
  },
  {
   "cell_type": "code",
   "execution_count": 52,
   "metadata": {
    "collapsed": false
   },
   "outputs": [
    {
     "data": {
      "text/plain": [
       "array([  4.88872874e+02,   1.55130994e+04,   1.06268625e+01,\n",
       "         1.83229048e+02,   9.56477901e+00,   7.36037612e+00,\n",
       "         2.79019454e-03,   6.30713697e+02,   1.81380986e-01])"
      ]
     },
     "execution_count": 52,
     "metadata": {},
     "output_type": "execute_result"
    }
   ],
   "source": [
    "np.var(counts, axis=0)"
   ]
  },
  {
   "cell_type": "code",
   "execution_count": 53,
   "metadata": {
    "collapsed": false
   },
   "outputs": [
    {
     "data": {
      "text/plain": [
       "array([ 0.03757508,  0.00188708])"
      ]
     },
     "execution_count": 53,
     "metadata": {},
     "output_type": "execute_result"
    }
   ],
   "source": [
    "np.var(ratios, axis=0)"
   ]
  },
  {
   "cell_type": "code",
   "execution_count": 56,
   "metadata": {
    "collapsed": false
   },
   "outputs": [],
   "source": [
    "X_ext = scale(np.concatenate((counts, ratios), axis=1), with_mean=True, axis=0)"
   ]
  },
  {
   "cell_type": "code",
   "execution_count": 57,
   "metadata": {
    "collapsed": false
   },
   "outputs": [
    {
     "name": "stdout",
     "output_type": "stream",
     "text": [
      "confidence matrix:\n",
      "[[654  54]\n",
      " [ 68  11]]\n",
      "False Positives:\n",
      "================\n",
      "2       no americans even knew who corden was several ...\n",
      "3       my birthday was the 22nd as well and we both s...\n",
      "22                                              nausious﻿\n",
      "32                             has james put on weight ?﻿\n",
      "34                        Sorry, James Corden not Conrad﻿\n",
      "44                                                 Beaut﻿\n",
      "50                                                 Hello﻿\n",
      "53      can&#39;t wait to see you guys this december i...\n",
      "63                               Maine Mendoza was here.﻿\n",
      "68                   great song :)) always love Coldplay﻿\n",
      "80      King James Corden<br />he absolutely smashed it.﻿\n",
      "109                                        Word of Tanks﻿\n",
      "119                                    But still though?﻿\n",
      "142               have braun stroman vs the beast lesnar﻿\n",
      "147       brock lesnar is probably gonna try and rake it﻿\n",
      "183                          Did you see Grim And Dohup?﻿\n",
      "195                       Trap totally suites that beard﻿\n",
      "213                                         hello .(*_*)﻿\n",
      "280                                   Thou shall say sup﻿\n",
      "302     well wel you not find it there would you its i...\n",
      "341                                             Superman﻿\n",
      "359                                  0N<br /><br />.7/22﻿\n",
      "364                               it was acc really good﻿\n",
      "369                                                Noice﻿\n",
      "375                                        Spear chucker﻿\n",
      "395     Ohohohoho Taken reversed and holy hell it look...\n",
      "404                                              Jason!!﻿\n",
      "414                           This movie looks terrible.﻿\n",
      "418                     Wow even she got old, time flies﻿\n",
      "425                                 Waist Deep and Taken﻿\n",
      "                              ...                        \n",
      "3155                                              dinesh﻿\n",
      "3178                                               Yesss﻿\n",
      "3197                                               fake.﻿\n",
      "3213                                     &#39;women&#39;﻿\n",
      "3217    Huh.  I&#39;m sitting on that same dildo right...\n",
      "3228                                               Women﻿\n",
      "3301                                              haaaaa﻿\n",
      "3302                                 witch house is back﻿\n",
      "3314                                               &lt;3﻿\n",
      "3322                                              greasy﻿\n",
      "3338                I just wasted 12 minutes of my life.﻿\n",
      "3405    He&#39;s a fast runner doing hip hand movement...\n",
      "3421    Videos like these is why nobody takes YouTube ...\n",
      "3424                                 That haircut though﻿\n",
      "3455                                              Juiced﻿\n",
      "3476                          He looks like my right toe﻿\n",
      "3608                                        Pure class..﻿\n",
      "3639            where the hell is cr7 worlds best player﻿\n",
      "3698                                  Messi &gt; Ronaldo﻿\n",
      "3705               the ronaldo best player and the world﻿\n",
      "3740                                    The King is back﻿\n",
      "3751                                       ilginç amk :)﻿\n",
      "3773                          i hope connor gets fked up﻿\n",
      "3780                                        Diaz Johnson﻿\n",
      "3855            This guy never worked a day in his life.﻿\n",
      "3856                           Legalize the weed already﻿\n",
      "3858                                      look a pothead﻿\n",
      "3888                                        ewww trudeau﻿\n",
      "3927                    he is better than theo right now﻿\n",
      "3934                                               first﻿\n",
      "Name: comment, dtype: object\n",
      "False Negatives:\n",
      "================\n",
      "13      wot a surprise can&#39;t get away from his cub...\n",
      "735     ..... I can&#39;t decide if that funny or sad....\n",
      "777                                           goofy fuck﻿\n",
      "778           Why are you saying that your face is gross﻿\n",
      "785                                          Wtf is this﻿\n",
      "836     They all suck they should take notes from Jaco...\n",
      "898     I would love to ram the big man right up her h...\n",
      "901                     Why is this a fucking news story﻿\n",
      "906     wyh this shit coming up my my suggestions?<br ...\n",
      "907                               Black people cant swim﻿\n",
      "910                                         Fuck you TZM﻿\n",
      "914                          Man she&#39;s ugly as fuck.﻿\n",
      "927        Tmz, the type of niggas to put in fake laughs﻿\n",
      "937       Shows like this are the cancer of the Internet﻿\n",
      "942     Imagine being stuck in a room with all those c...\n",
      "948     Wouldn&#39;t it be great if that yacht fell th...\n",
      "959              So fat and stiff looking, actual whelp.﻿\n",
      "960     TMZ, belongs in the gossip section of lies. Th...\n",
      "1013                                      Mark is cancer﻿\n",
      "1102                     I stared her tits the hole time﻿\n",
      "1109    I reiterate... Erica Mena isn&#39;t to be marr...\n",
      "1112    it was hard for her to explain what a hoe is c...\n",
      "1131    Bow Wow pushed her ass down some stairs to get...\n",
      "1156                             bitch you are a no body﻿\n",
      "1163                Jermaine Dapree Fucked Him Literally﻿\n",
      "1282                                                lame﻿\n",
      "1344    Conor knocked him retarded.... Is the scar tis...\n",
      "1378                               Nate is piece of shit﻿\n",
      "1727    All I see is a spoiled white boy who even brou...\n",
      "1733    So when that bitch Hillary Clinton lies Yall a...\n",
      "                              ...                        \n",
      "2529                                  Lol crazy negroids﻿\n",
      "2552    This is kinda fucking stupid point really like...\n",
      "2584                                           Your sick﻿\n",
      "2587    Filmed sideways like a dumb retard from the Un...\n",
      "2591                      Thats one juicy baby holy fuck﻿\n",
      "2624                           FUCK THE POPE AND THE IRA﻿\n",
      "2630                       ENGLAND IS A FUCKING SHITHOLE﻿\n",
      "2631    Who honestly Gives a fuck? I Only came on here...\n",
      "2666                                      Cruel bastards﻿\n",
      "2751    Thanks for proving again that white privilege ...\n",
      "2799                       You&#39;re all getting cancer﻿\n",
      "2858                   I can finally enjoy eating ASS!!!﻿\n",
      "2888                 It will attract a bunch of niggers.﻿\n",
      "2891                                                 Wtf﻿\n",
      "2895    Good thing Colonel died before he saw this shit.﻿\n",
      "2952                                       Stupid Girl !﻿\n",
      "3005                                  Hiddious  Rosie O.﻿\n",
      "3018                                                 No.﻿\n",
      "3025                                        This is gay.﻿\n",
      "3077                 it stunk years ago and still stinks﻿\n",
      "3103    Steve Job was an asshoe and only asshoes buy a...\n",
      "3366                        You&#39;re fucking dumb lmao﻿\n",
      "3427                                 Fucking Neanderthal﻿\n",
      "3428                     His head is like a bowling ball﻿\n",
      "3433                                     Fuck that pussy﻿\n",
      "3488                  put more roids in your ass cheater﻿\n",
      "3506                                             cheater﻿\n",
      "3509    THESE FAGGOTS ARE COMMENTING SAYING HE WOULD B...\n",
      "3565                                       fuck ya Eddie﻿\n",
      "3736                               Surprise dumb fucker!﻿\n",
      "Name: comment, dtype: object\n"
     ]
    },
    {
     "data": {
      "image/png": "[encoded data removed]",
      "text/plain": [
       "<matplotlib.figure.Figure at 0xc11a5f8>"
      ]
     },
     "metadata": {},
     "output_type": "display_data"
    }
   ],
   "source": [
    "model_rfc(X_ext, Y, data.troll)"
   ]
  },
  {
   "cell_type": "markdown",
   "metadata": {},
   "source": [
    "## classifying based on generated features"
   ]
  },
  {
   "cell_type": "code",
   "execution_count": 59,
   "metadata": {
    "collapsed": false
   },
   "outputs": [
    {
     "name": "stdout",
     "output_type": "stream",
     "text": [
      "confidence matrix:\n",
      "[[701   3]\n",
      " [ 77   6]]\n",
      "False Positives:\n",
      "================\n",
      "186                                                   No﻿\n",
      "2270    why has amber rose got a show? talentless tras...\n",
      "2656    Why so many people making jokes about this, th...\n",
      "2829                                                 Wtf﻿\n",
      "Name: comment, dtype: object\n",
      "False Negatives:\n",
      "================\n",
      "17      This clown is like shit on a field. Unfunny fa...\n",
      "236       ehhh fine...i&#39;ll give ya a like..assholes.﻿\n",
      "322                            FUCK YOU CHINA WE GOT 2ND﻿\n",
      "592     Why is this kind of stuff on YouTube. It&#39;s...\n",
      "774     R.I.P to that 20seconds Ill never get back.  I...\n",
      "777                                           goofy fuck﻿\n",
      "895     I hope that bitch drowns, that black lives mat...\n",
      "898     I would love to ram the big man right up her h...\n",
      "902                                       TMZ is so shit﻿\n",
      "910                                         Fuck you TZM﻿\n",
      "914                          Man she&#39;s ugly as fuck.﻿\n",
      "916                                             fuck tmz﻿\n",
      "920                                     who gives a fuck﻿\n",
      "936                           Seriously, Fuck that cunt.﻿\n",
      "944                             tmz are sycophantic scum﻿\n",
      "951     wtf is this, why is this news... tmz is n cancer﻿\n",
      "952     i dunno whats worse , the shitty video this is...\n",
      "954     Why the fuck are you using feet, wtf is 30 ft ...\n",
      "958                                   she looks very fat﻿\n",
      "980             she need to go down and gargle deez nuts﻿\n",
      "1013                                      Mark is cancer﻿\n",
      "1092                            WHO IS THIS BITCH ?! =))﻿\n",
      "1093    Men don&#39;t use the dick as a tool to get ah...\n",
      "1100    y her hands look like claws yuk ya thirsty nig...\n",
      "1122               wanna suck the nipples off this woman﻿\n",
      "1187            how she talks is just so cheap and nasty﻿\n",
      "1338    all diaz haters eat fat shit with a dick on to...\n",
      "1547                                           Stupid! 😑﻿\n",
      "1688                                Wtf did i just watch﻿\n",
      "1717                                            DUMBASS!﻿\n",
      "                              ...                        \n",
      "2255    Why has Amber rose got a show? Also why is thi...\n",
      "2269    MC fucked this rat? Oh dear, Did he slip somet...\n",
      "2272                                            disgrace﻿\n",
      "2351    I heard trumps dick is about as big as this se...\n",
      "2418                           Dumbest series to mankind﻿\n",
      "2420         Family who made a living of there slag Kim.﻿\n",
      "2421                                          plastic af﻿\n",
      "2609    you guys are FUCKING sick you deserve to die y...\n",
      "2639                &quot;Fucking stinks of shite &quot;﻿\n",
      "2751    Thanks for proving again that white privilege ...\n",
      "2804    Those of you who are stupid to realize it: it&...\n",
      "2889                      Hitler killed the wrong people﻿\n",
      "2914           what a bitch... sucking hillary&#39;s ass﻿\n",
      "2927               black lies matter...what a ride bitch﻿\n",
      "2952                                       Stupid Girl !﻿\n",
      "2979    THAT IS THE CLASSIC ugly black bitch democrat ...\n",
      "2990                           Joy Reid is an ugly shit.﻿\n",
      "3005                                  Hiddious  Rosie O.﻿\n",
      "3103    Steve Job was an asshoe and only asshoes buy a...\n",
      "3374    The only evil in the world is created by fucki...\n",
      "3396                                         Bullshit!!!﻿\n",
      "3413                                         Sad prick 😂﻿\n",
      "3428                     His head is like a bowling ball﻿\n",
      "3444    Fucking hell this guy looks like a bloody potato﻿\n",
      "3449                                 Cheating lying cunt﻿\n",
      "3451                                Definitely a cunt...﻿\n",
      "3509    THESE FAGGOTS ARE COMMENTING SAYING HE WOULD B...\n",
      "3516                                     Complete douche﻿\n",
      "3736                               Surprise dumb fucker!﻿\n",
      "3737                        Suprise suprise motherfucker﻿\n",
      "Name: comment, dtype: object\n"
     ]
    },
    {
     "data": {
      "image/png": "[encoded data removed]",
      "text/plain": [
       "<matplotlib.figure.Figure at 0xc9e6f98>"
      ]
     },
     "metadata": {},
     "output_type": "display_data"
    }
   ],
   "source": [
    "model_rfc(np.concatenate((X_pca, X_ext), axis=1), Y, data.troll)"
   ]
  },
  {
   "cell_type": "markdown",
   "metadata": {},
   "source": [
    "## visualizing some of the features"
   ]
  },
  {
   "cell_type": "code",
   "execution_count": 60,
   "metadata": {
    "collapsed": false
   },
   "outputs": [
    {
     "data": {
      "text/plain": [
       "<matplotlib.collections.PathCollection at 0xc11ce48>"
      ]
     },
     "execution_count": 60,
     "metadata": {},
     "output_type": "execute_result"
    },
    {
     "data": {
      "image/png": "[encoded data removed]",
      "text/plain": [
       "<matplotlib.figure.Figure at 0xc9a6ac8>"
      ]
     },
     "metadata": {},
     "output_type": "display_data"
    }
   ],
   "source": [
    "colors = ['r', 'b']\n",
    "label_colors = [colors[lab] for lab in data.troll.values]\n",
    "\n",
    "plt.scatter(X_pca[:,3], X_pca[:,2], \n",
    "            s=10,\n",
    "            lw=0.1,\n",
    "            c=label_colors,\n",
    "            alpha=0.3)"
   ]
  },
  {
   "cell_type": "code",
   "execution_count": 61,
   "metadata": {
    "collapsed": false
   },
   "outputs": [
    {
     "data": {
      "image/png": "[encoded data removed]",
      "text/plain": [
       "<matplotlib.figure.Figure at 0xc9f7390>"
      ]
     },
     "metadata": {},
     "output_type": "display_data"
    }
   ],
   "source": [
    "a = plt.hist(X_ext[:,-1], bins=100)"
   ]
  },
  {
   "cell_type": "markdown",
   "metadata": {},
   "source": [
    "## using isolation forest"
   ]
  },
  {
   "cell_type": "code",
   "execution_count": 62,
   "metadata": {
    "collapsed": false
   },
   "outputs": [],
   "source": [
    "from sklearn.ensemble import IsolationForest\n",
    "\n",
    "def model_ifc(X, Y):\n",
    "    X_train, X_test, y_train, y_test = train_test_split(X, Y, train_size=.80)\n",
    "    clf = IsolationForest(n_estimators=100)\n",
    "    clf.fit(X_train, y_train)\n",
    "    clf_probs = clf.predict(X_test) < 0\n",
    "    score = confusion_matrix(y_test, clf_probs)\n",
    "    print(score)"
   ]
  },
  {
   "cell_type": "code",
   "execution_count": 63,
   "metadata": {
    "collapsed": false
   },
   "outputs": [
    {
     "name": "stdout",
     "output_type": "stream",
     "text": [
      "[[627  85]\n",
      " [ 66   9]]\n"
     ]
    }
   ],
   "source": [
    "model_ifc(X_pca, Y)"
   ]
  },
  {
   "cell_type": "markdown",
   "metadata": {},
   "source": [
    "# Questions\n",
    "* does it make sense to do variance based feature selection when dealing with imbalanced label sizes?"
   ]
  },
  {
   "cell_type": "code",
   "execution_count": null,
   "metadata": {
    "collapsed": true
   },
   "outputs": [],
   "source": []
  }
 ],
 "metadata": {
  "anaconda-cloud": {},
  "kernelspec": {
   "display_name": "Python [default]",
   "language": "python",
   "name": "python3"
  },
  "language_info": {
   "codemirror_mode": {
    "name": "ipython",
    "version": 3
   },
   "file_extension": ".py",
   "mimetype": "text/x-python",
   "name": "python",
   "nbconvert_exporter": "python",
   "pygments_lexer": "ipython3",
   "version": "3.5.2"
  }
 },
 "nbformat": 4,
 "nbformat_minor": 1
}
