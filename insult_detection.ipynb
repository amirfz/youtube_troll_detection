{
 "cells": [
  {
   "cell_type": "code",
   "execution_count": 1,
   "metadata": {
    "collapsed": false
   },
   "outputs": [],
   "source": [
    "import numpy as np\n",
    "import pandas as pd\n",
    "import matplotlib.pyplot as plt\n",
    "import nltk\n",
    "from nltk.corpus import stopwords\n",
    "from nltk.stem import PorterStemmer\n",
    "import re\n",
    "import seaborn as sns\n",
    "\n",
    "%matplotlib inline"
   ]
  },
  {
   "cell_type": "markdown",
   "metadata": {},
   "source": [
    "## read in the data"
   ]
  },
  {
   "cell_type": "code",
   "execution_count": 2,
   "metadata": {
    "collapsed": false
   },
   "outputs": [],
   "source": [
    "data = pd.read_csv('youtube-comments.csv')"
   ]
  },
  {
   "cell_type": "code",
   "execution_count": 3,
   "metadata": {
    "collapsed": false
   },
   "outputs": [
    {
     "data": {
      "text/html": [
       "<div>\n",
       "<table border=\"1\" class=\"dataframe\">\n",
       "  <thead>\n",
       "    <tr style=\"text-align: right;\">\n",
       "      <th></th>\n",
       "      <th>comment</th>\n",
       "      <th>troll</th>\n",
       "      <th>title</th>\n",
       "      <th>views</th>\n",
       "      <th>dislikes</th>\n",
       "      <th>commentCount</th>\n",
       "      <th>likes</th>\n",
       "      <th>replies</th>\n",
       "      <th>id</th>\n",
       "    </tr>\n",
       "  </thead>\n",
       "  <tbody>\n",
       "    <tr>\n",
       "      <th>0</th>\n",
       "      <td>What a lucky guy, got celebrated birthday on c...</td>\n",
       "      <td>0</td>\n",
       "      <td>Nothing Compares 2 U (Live in LA w/ James Corden)</td>\n",
       "      <td>469414</td>\n",
       "      <td>263</td>\n",
       "      <td>1123</td>\n",
       "      <td>19392</td>\n",
       "      <td>0</td>\n",
       "      <td>mak_Cu9Wl6w</td>\n",
       "    </tr>\n",
       "    <tr>\n",
       "      <th>1</th>\n",
       "      <td>Love it﻿</td>\n",
       "      <td>0</td>\n",
       "      <td>Nothing Compares 2 U (Live in LA w/ James Corden)</td>\n",
       "      <td>469414</td>\n",
       "      <td>263</td>\n",
       "      <td>1123</td>\n",
       "      <td>19392</td>\n",
       "      <td>0</td>\n",
       "      <td>mak_Cu9Wl6w</td>\n",
       "    </tr>\n",
       "    <tr>\n",
       "      <th>2</th>\n",
       "      <td>no americans even knew who corden was several ...</td>\n",
       "      <td>0</td>\n",
       "      <td>Nothing Compares 2 U (Live in LA w/ James Corden)</td>\n",
       "      <td>469414</td>\n",
       "      <td>263</td>\n",
       "      <td>1123</td>\n",
       "      <td>19392</td>\n",
       "      <td>0</td>\n",
       "      <td>mak_Cu9Wl6w</td>\n",
       "    </tr>\n",
       "    <tr>\n",
       "      <th>3</th>\n",
       "      <td>my birthday was the 22nd as well and we both s...</td>\n",
       "      <td>0</td>\n",
       "      <td>Nothing Compares 2 U (Live in LA w/ James Corden)</td>\n",
       "      <td>469414</td>\n",
       "      <td>263</td>\n",
       "      <td>1123</td>\n",
       "      <td>19392</td>\n",
       "      <td>0</td>\n",
       "      <td>mak_Cu9Wl6w</td>\n",
       "    </tr>\n",
       "    <tr>\n",
       "      <th>4</th>\n",
       "      <td>OMG IM CRYING﻿</td>\n",
       "      <td>0</td>\n",
       "      <td>Nothing Compares 2 U (Live in LA w/ James Corden)</td>\n",
       "      <td>469414</td>\n",
       "      <td>263</td>\n",
       "      <td>1123</td>\n",
       "      <td>19392</td>\n",
       "      <td>0</td>\n",
       "      <td>mak_Cu9Wl6w</td>\n",
       "    </tr>\n",
       "  </tbody>\n",
       "</table>\n",
       "</div>"
      ],
      "text/plain": [
       "                                             comment  troll  \\\n",
       "0  What a lucky guy, got celebrated birthday on c...      0   \n",
       "1                                           Love it﻿      0   \n",
       "2  no americans even knew who corden was several ...      0   \n",
       "3  my birthday was the 22nd as well and we both s...      0   \n",
       "4                                     OMG IM CRYING﻿      0   \n",
       "\n",
       "                                               title   views  dislikes  \\\n",
       "0  Nothing Compares 2 U (Live in LA w/ James Corden)  469414       263   \n",
       "1  Nothing Compares 2 U (Live in LA w/ James Corden)  469414       263   \n",
       "2  Nothing Compares 2 U (Live in LA w/ James Corden)  469414       263   \n",
       "3  Nothing Compares 2 U (Live in LA w/ James Corden)  469414       263   \n",
       "4  Nothing Compares 2 U (Live in LA w/ James Corden)  469414       263   \n",
       "\n",
       "   commentCount  likes  replies           id  \n",
       "0          1123  19392        0  mak_Cu9Wl6w  \n",
       "1          1123  19392        0  mak_Cu9Wl6w  \n",
       "2          1123  19392        0  mak_Cu9Wl6w  \n",
       "3          1123  19392        0  mak_Cu9Wl6w  \n",
       "4          1123  19392        0  mak_Cu9Wl6w  "
      ]
     },
     "execution_count": 3,
     "metadata": {},
     "output_type": "execute_result"
    }
   ],
   "source": [
    "data.head()"
   ]
  },
  {
   "cell_type": "markdown",
   "metadata": {},
   "source": [
    "## cleaning the text"
   ]
  },
  {
   "cell_type": "code",
   "execution_count": 4,
   "metadata": {
    "collapsed": true
   },
   "outputs": [],
   "source": [
    "def cleaner(text):\n",
    "    '''Function to clean the text data and prep for further analysis'''\n",
    "    stops = set(stopwords.words(\"english\"))     # Creating a set of Stopwords\n",
    "    p_stemmer = PorterStemmer()                 # Creating the stemmer model\n",
    "    text = re.sub(\"[^a-zA-Z]\",\" \",text)          # Removes punctuation\n",
    "    text = text.split()                          # Splits the data into individual words \n",
    "    text = [w for w in text if not w in stops]   # Removes stopwords\n",
    "    text = [p_stemmer.stem(i) for i in text]     # Stemming (reducing words to their root)\n",
    "    return ' '.join(text)"
   ]
  },
  {
   "cell_type": "code",
   "execution_count": 5,
   "metadata": {
    "collapsed": false
   },
   "outputs": [],
   "source": [
    "data['clean'] = data['comment'].apply(cleaner)"
   ]
  },
  {
   "cell_type": "code",
   "execution_count": 6,
   "metadata": {
    "collapsed": false
   },
   "outputs": [
    {
     "data": {
      "text/html": [
       "<div>\n",
       "<table border=\"1\" class=\"dataframe\">\n",
       "  <thead>\n",
       "    <tr style=\"text-align: right;\">\n",
       "      <th></th>\n",
       "      <th>comment</th>\n",
       "      <th>troll</th>\n",
       "      <th>title</th>\n",
       "      <th>views</th>\n",
       "      <th>dislikes</th>\n",
       "      <th>commentCount</th>\n",
       "      <th>likes</th>\n",
       "      <th>replies</th>\n",
       "      <th>id</th>\n",
       "      <th>clean</th>\n",
       "    </tr>\n",
       "  </thead>\n",
       "  <tbody>\n",
       "    <tr>\n",
       "      <th>0</th>\n",
       "      <td>What a lucky guy, got celebrated birthday on c...</td>\n",
       "      <td>0</td>\n",
       "      <td>Nothing Compares 2 U (Live in LA w/ James Corden)</td>\n",
       "      <td>469414</td>\n",
       "      <td>263</td>\n",
       "      <td>1123</td>\n",
       "      <td>19392</td>\n",
       "      <td>0</td>\n",
       "      <td>mak_Cu9Wl6w</td>\n",
       "      <td>What lucki guy got celebr birthday concert bil...</td>\n",
       "    </tr>\n",
       "    <tr>\n",
       "      <th>1</th>\n",
       "      <td>Love it﻿</td>\n",
       "      <td>0</td>\n",
       "      <td>Nothing Compares 2 U (Live in LA w/ James Corden)</td>\n",
       "      <td>469414</td>\n",
       "      <td>263</td>\n",
       "      <td>1123</td>\n",
       "      <td>19392</td>\n",
       "      <td>0</td>\n",
       "      <td>mak_Cu9Wl6w</td>\n",
       "      <td>Love</td>\n",
       "    </tr>\n",
       "    <tr>\n",
       "      <th>2</th>\n",
       "      <td>no americans even knew who corden was several ...</td>\n",
       "      <td>0</td>\n",
       "      <td>Nothing Compares 2 U (Live in LA w/ James Corden)</td>\n",
       "      <td>469414</td>\n",
       "      <td>263</td>\n",
       "      <td>1123</td>\n",
       "      <td>19392</td>\n",
       "      <td>0</td>\n",
       "      <td>mak_Cu9Wl6w</td>\n",
       "      <td>american even knew corden sever year ago</td>\n",
       "    </tr>\n",
       "    <tr>\n",
       "      <th>3</th>\n",
       "      <td>my birthday was the 22nd as well and we both s...</td>\n",
       "      <td>0</td>\n",
       "      <td>Nothing Compares 2 U (Live in LA w/ James Corden)</td>\n",
       "      <td>469414</td>\n",
       "      <td>263</td>\n",
       "      <td>1123</td>\n",
       "      <td>19392</td>\n",
       "      <td>0</td>\n",
       "      <td>mak_Cu9Wl6w</td>\n",
       "      <td>birthday nd well support west ham</td>\n",
       "    </tr>\n",
       "    <tr>\n",
       "      <th>4</th>\n",
       "      <td>OMG IM CRYING﻿</td>\n",
       "      <td>0</td>\n",
       "      <td>Nothing Compares 2 U (Live in LA w/ James Corden)</td>\n",
       "      <td>469414</td>\n",
       "      <td>263</td>\n",
       "      <td>1123</td>\n",
       "      <td>19392</td>\n",
       "      <td>0</td>\n",
       "      <td>mak_Cu9Wl6w</td>\n",
       "      <td>OMG IM CRi</td>\n",
       "    </tr>\n",
       "  </tbody>\n",
       "</table>\n",
       "</div>"
      ],
      "text/plain": [
       "                                             comment  troll  \\\n",
       "0  What a lucky guy, got celebrated birthday on c...      0   \n",
       "1                                           Love it﻿      0   \n",
       "2  no americans even knew who corden was several ...      0   \n",
       "3  my birthday was the 22nd as well and we both s...      0   \n",
       "4                                     OMG IM CRYING﻿      0   \n",
       "\n",
       "                                               title   views  dislikes  \\\n",
       "0  Nothing Compares 2 U (Live in LA w/ James Corden)  469414       263   \n",
       "1  Nothing Compares 2 U (Live in LA w/ James Corden)  469414       263   \n",
       "2  Nothing Compares 2 U (Live in LA w/ James Corden)  469414       263   \n",
       "3  Nothing Compares 2 U (Live in LA w/ James Corden)  469414       263   \n",
       "4  Nothing Compares 2 U (Live in LA w/ James Corden)  469414       263   \n",
       "\n",
       "   commentCount  likes  replies           id  \\\n",
       "0          1123  19392        0  mak_Cu9Wl6w   \n",
       "1          1123  19392        0  mak_Cu9Wl6w   \n",
       "2          1123  19392        0  mak_Cu9Wl6w   \n",
       "3          1123  19392        0  mak_Cu9Wl6w   \n",
       "4          1123  19392        0  mak_Cu9Wl6w   \n",
       "\n",
       "                                               clean  \n",
       "0  What lucki guy got celebr birthday concert bil...  \n",
       "1                                               Love  \n",
       "2           american even knew corden sever year ago  \n",
       "3                  birthday nd well support west ham  \n",
       "4                                         OMG IM CRi  "
      ]
     },
     "execution_count": 6,
     "metadata": {},
     "output_type": "execute_result"
    }
   ],
   "source": [
    "data.head()"
   ]
  },
  {
   "cell_type": "markdown",
   "metadata": {},
   "source": [
    "## using tf-idf to convert the clean comments to a matrix of freq's"
   ]
  },
  {
   "cell_type": "code",
   "execution_count": 7,
   "metadata": {
    "collapsed": false
   },
   "outputs": [],
   "source": [
    "from sklearn.feature_extraction.text import TfidfVectorizer\n",
    "from sklearn import preprocessing"
   ]
  },
  {
   "cell_type": "code",
   "execution_count": 8,
   "metadata": {
    "collapsed": false
   },
   "outputs": [],
   "source": [
    "vectorizer = TfidfVectorizer(lowercase=False,\n",
    "                             analyzer=u'word',\n",
    "                             ngram_range=(1, 3),\n",
    "                             stop_words='english',\n",
    "                             binary=False,\n",
    "                             norm=u'l2', \n",
    "                             use_idf=True, \n",
    "                             smooth_idf=True, \n",
    "                             sublinear_tf=True,\n",
    "                             min_df=3)\n",
    "X = vectorizer.fit_transform(data.clean)"
   ]
  },
  {
   "cell_type": "code",
   "execution_count": 9,
   "metadata": {
    "collapsed": true
   },
   "outputs": [],
   "source": [
    "vectorizer = TfidfVectorizer(lowercase=False,\n",
    "                             analyzer=u'char',\n",
    "                             ngram_range=(1, 5),\n",
    "                             stop_words='english',\n",
    "                             binary=False,\n",
    "                             norm=u'l2', \n",
    "                             use_idf=True, \n",
    "                             smooth_idf=True, \n",
    "                             sublinear_tf=True)\n",
    "X = vectorizer.fit_transform(data.clean)"
   ]
  },
  {
   "cell_type": "code",
   "execution_count": 10,
   "metadata": {
    "collapsed": false
   },
   "outputs": [
    {
     "data": {
      "text/plain": [
       "(3935, 102366)"
      ]
     },
     "execution_count": 10,
     "metadata": {},
     "output_type": "execute_result"
    }
   ],
   "source": [
    "X.shape"
   ]
  },
  {
   "cell_type": "markdown",
   "metadata": {},
   "source": [
    "## creating labels"
   ]
  },
  {
   "cell_type": "code",
   "execution_count": 11,
   "metadata": {
    "collapsed": false
   },
   "outputs": [],
   "source": [
    "le = preprocessing.LabelEncoder()\n",
    "le.fit(data.troll.values)\n",
    "Y = le.transform(data.troll.values) "
   ]
  },
  {
   "cell_type": "markdown",
   "metadata": {},
   "source": [
    "## defining a classifier function"
   ]
  },
  {
   "cell_type": "markdown",
   "metadata": {},
   "source": [
    "the fact that only 10% of the data is trolls means that maybe an anamoly detection approach would perform better, this is taken care of by giving the classifier the flag class_weight='balanced' that ensures a balanced sampling of the input data"
   ]
  },
  {
   "cell_type": "code",
   "execution_count": 12,
   "metadata": {
    "collapsed": false
   },
   "outputs": [],
   "source": [
    "from sklearn.ensemble import RandomForestClassifier\n",
    "from sklearn.model_selection import train_test_split\n",
    "from sklearn.metrics import confusion_matrix\n",
    "\n",
    "def model_rfc(X, Y, troll):\n",
    "    X_train, X_test, y_train, y_test = train_test_split(X, Y, train_size=.80)\n",
    "    \n",
    "    clf = RandomForestClassifier(n_estimators=100, class_weight='balanced')\n",
    "    clf.fit(X_train, y_train)\n",
    "    clf_probs = np.dot(clf.predict_proba(X_test)>0.5, np.array([0, 1]))\n",
    "    \n",
    "    score = confusion_matrix(y_test, clf_probs)\n",
    "    \n",
    "    print('confidence matrix:')\n",
    "    print(score)\n",
    "    plt.bar(range(X.shape[1]), clf.feature_importances_)\n",
    "    \n",
    "    clf_labels = np.dot(clf.predict_proba(X)>0.5, np.array([0, 1]))\n",
    "    print('False Positives:')\n",
    "    print('================')\n",
    "    print(data['comment'][(clf_labels==1) & (troll==0)])\n",
    "    print('False Negatives:')\n",
    "    print('================')\n",
    "    print(data['comment'][(clf_labels==0) & (troll==1)])\n",
    "    \n",
    "    return "
   ]
  },
  {
   "cell_type": "markdown",
   "metadata": {},
   "source": [
    "## dimensionality reduction"
   ]
  },
  {
   "cell_type": "markdown",
   "metadata": {},
   "source": [
    "tf-idf vectorizer gives around 5500 words (columns) and that's more than the number of rows, and since most words are redundant anyway it is important to reduce the dimensionality of the problem"
   ]
  },
  {
   "cell_type": "markdown",
   "metadata": {},
   "source": [
    "### Percentile Threshold \n",
    "Select features according to a percentile of the highest scores"
   ]
  },
  {
   "cell_type": "code",
   "execution_count": 13,
   "metadata": {
    "collapsed": true
   },
   "outputs": [],
   "source": [
    "from sklearn.feature_selection import SelectPercentile, chi2"
   ]
  },
  {
   "cell_type": "code",
   "execution_count": 14,
   "metadata": {
    "collapsed": false
   },
   "outputs": [],
   "source": [
    "sel = SelectPercentile(score_func=chi2, percentile=1)"
   ]
  },
  {
   "cell_type": "code",
   "execution_count": 15,
   "metadata": {
    "collapsed": false
   },
   "outputs": [],
   "source": [
    "X_sel = sel.fit_transform(X, Y)"
   ]
  },
  {
   "cell_type": "code",
   "execution_count": 16,
   "metadata": {
    "collapsed": false
   },
   "outputs": [
    {
     "data": {
      "text/plain": [
       "(3935, 1023)"
      ]
     },
     "execution_count": 16,
     "metadata": {},
     "output_type": "execute_result"
    }
   ],
   "source": [
    "X_sel.shape"
   ]
  },
  {
   "cell_type": "markdown",
   "metadata": {},
   "source": [
    "## classifying using the result of PCA"
   ]
  },
  {
   "cell_type": "code",
   "execution_count": 17,
   "metadata": {
    "collapsed": false
   },
   "outputs": [
    {
     "name": "stdout",
     "output_type": "stream",
     "text": [
      "confidence matrix:\n",
      "[[705   6]\n",
      " [ 57  19]]\n",
      "False Positives:\n",
      "================\n",
      "435                                                  wtf﻿\n",
      "766                                                  wtf﻿\n",
      "1159                      I fucked 1,000 bitches - Lil B﻿\n",
      "1287    this dude always complaining tho diaz fan for ...\n",
      "2558    I fucking love this song. If only it were longer﻿\n",
      "2640                               what the fuck is that﻿\n",
      "2800                                   WHAT IS THIS EVEN﻿\n",
      "2815                                       fucking 10/10﻿\n",
      "2829                                                 Wtf﻿\n",
      "2913    tell me this how do u get in the bed with devi...\n",
      "3201    Filmed sideways like a dumb retard from the Un...\n",
      "Name: comment, dtype: object\n",
      "False Negatives:\n",
      "================\n",
      "13      wot a surprise can&#39;t get away from his cub...\n",
      "17      This clown is like shit on a field. Unfunny fa...\n",
      "464              Another shitty female lead action movie﻿\n",
      "592     Why is this kind of stuff on YouTube. It&#39;s...\n",
      "716     if he laughed in front of me I&#39;d be fuckin...\n",
      "831                           dafuck is this. no just no﻿\n",
      "836     They all suck they should take notes from Jaco...\n",
      "891                                   I wish she drowned﻿\n",
      "907                               Black people cant swim﻿\n",
      "916                                             fuck tmz﻿\n",
      "925     WHO THE FUCK CARES THIS SHIT IS TRENDING AND I...\n",
      "954     Why the fuck are you using feet, wtf is 30 ft ...\n",
      "956     Milking the fuck outta videos!! They just keep...\n",
      "980             she need to go down and gargle deez nuts﻿\n",
      "1112    it was hard for her to explain what a hoe is c...\n",
      "1113    The world is fucked up with labels cause a stu...\n",
      "1120        promiscuous is the sexy word for slut/ho lol﻿\n",
      "1123    Son said her pussy taste like Hennessey and di...\n",
      "1124    isnt there a black youtube too? so i dont have...\n",
      "1146                I wanna bust my load down her throat﻿\n",
      "1148               I just came to Dislike the Video..bye﻿\n",
      "1152                       fuck is this hoe talking bout﻿\n",
      "1168                       can i unshine your boobs bae?﻿\n",
      "1169    she&#39;s confused at what a hoe is?? I&#39;m ...\n",
      "1338    all diaz haters eat fat shit with a dick on to...\n",
      "1344    Conor knocked him retarded.... Is the scar tis...\n",
      "1361    man this guys a clown, maybe if you wanted to ...\n",
      "1363                        This idiot is brain dead !!!﻿\n",
      "1723    He is the worst of the worst and should never ...\n",
      "1733    So when that bitch Hillary Clinton lies Yall a...\n",
      "                              ...                        \n",
      "1788                         Nice fake crying there Ryan﻿\n",
      "1833    wtf.....giving animals promotions ....humanity...\n",
      "1941                                               sad x﻿\n",
      "1951                                  are you shiting me﻿\n",
      "2037                                   VEVO shit !!!!!!!﻿\n",
      "2154                           He was promptly beheaded.﻿\n",
      "2166    You had one job kid. Now you gotta do Allahu A...\n",
      "2214    Piece of shit. Blow him up by himself since th...\n",
      "2239    Sluts are winning in this day n age. When did ...\n",
      "2255    Why has Amber rose got a show? Also why is thi...\n",
      "2256                                               Trash﻿\n",
      "2272                                            disgrace﻿\n",
      "2281                            Look at those fake boobs﻿\n",
      "2300                                               Shame﻿\n",
      "2424    Someone hold my eyelids open while I pour some...\n",
      "2529                                  Lol crazy negroids﻿\n",
      "2581                                   WTF WTF WTFFFFFF😨﻿\n",
      "2631    Who honestly Gives a fuck? I Only came on here...\n",
      "2671         That baby is trending!!! Even when dead!!!!﻿\n",
      "2889                      Hitler killed the wrong people﻿\n",
      "3018                                                 No.﻿\n",
      "3103    Steve Job was an asshoe and only asshoes buy a...\n",
      "3298                              I&#39;m fucking stoked﻿\n",
      "3337                             What a load of bollocks﻿\n",
      "3378    &quot;Jesus said...&quot; Shut the fuck up. Di...\n",
      "3458    Fuck off,your last fight was fucking awful,cir...\n",
      "3490    NATE DIAZ HIT THE DECK 3 TIMES LIKE A BITCH. Q...\n",
      "3496    Go fuck yourself u jucing little excuse using ...\n",
      "3511    COMPLETE DISGUSTING JUICED UP BITCH, ALL HIS F...\n",
      "3515                                   PED peace of shit﻿\n",
      "Name: comment, dtype: object\n"
     ]
    },
    {
     "data": {
      "image/png": "[encoded data removed]",
      "text/plain": [
       "<matplotlib.figure.Figure at 0xc86cfd0>"
      ]
     },
     "metadata": {},
     "output_type": "display_data"
    }
   ],
   "source": [
    "model_rfc(X_sel, Y, data.troll)"
   ]
  },
  {
   "cell_type": "markdown",
   "metadata": {},
   "source": [
    "## creating new features based on the length of the comment etc"
   ]
  },
  {
   "cell_type": "code",
   "execution_count": 18,
   "metadata": {
    "collapsed": true
   },
   "outputs": [],
   "source": [
    "def bad_word_counter(text):\n",
    "    bad_words = pd.read_csv('google_badlist.txt', header=None).values\n",
    "    return len([w for w in text.split() if w in bad_words])"
   ]
  },
  {
   "cell_type": "code",
   "execution_count": 19,
   "metadata": {
    "collapsed": true
   },
   "outputs": [],
   "source": [
    "def transform(documents):\n",
    "    ## some handcrafted features!\n",
    "    n_words = [len(c.split()) for c in documents]\n",
    "    n_chars = [len(c) for c in documents]\n",
    "    # number of uppercase words\n",
    "    allcaps = [np.sum([w.isupper() for w in comment.split()])\n",
    "           for comment in documents]\n",
    "    # longest word\n",
    "    max_word_len = [np.max([len(w) for w in c.split()]) for c in documents]\n",
    "    # average word length\n",
    "    mean_word_len = [np.mean([len(w) for w in c.split()])\n",
    "                                        for c in documents]\n",
    "    # number of google badwords:\n",
    "    n_bad = [bad_word_counter(c) for c in documents]\n",
    "    exclamation = [c.count(\"!\") for c in documents]\n",
    "    addressing = [c.count(\"@\") for c in documents]\n",
    "    spaces = [c.count(\" \") for c in documents]\n",
    "\n",
    "    allcaps_ratio = np.array(allcaps) / np.array(n_words, dtype=np.float)\n",
    "    bad_ratio = np.array(n_bad) / np.array(n_words, dtype=np.float)\n",
    "    \n",
    "    counts = np.array([n_words, n_chars, allcaps, max_word_len,\n",
    "                       mean_word_len, exclamation, addressing, spaces,\n",
    "                       n_bad]).T\n",
    "    ratios = np.array([allcaps_ratio, bad_ratio]).T\n",
    "\n",
    "    return counts, ratios"
   ]
  },
  {
   "cell_type": "markdown",
   "metadata": {},
   "source": [
    "## classifying based on the features like the length of the comment etc"
   ]
  },
  {
   "cell_type": "code",
   "execution_count": 20,
   "metadata": {
    "collapsed": true
   },
   "outputs": [],
   "source": [
    "from sklearn.preprocessing import scale"
   ]
  },
  {
   "cell_type": "code",
   "execution_count": 21,
   "metadata": {
    "collapsed": true
   },
   "outputs": [],
   "source": [
    "counts, ratios = transform(data.comment)"
   ]
  },
  {
   "cell_type": "code",
   "execution_count": 22,
   "metadata": {
    "collapsed": false
   },
   "outputs": [
    {
     "data": {
      "text/plain": [
       "array([  4.88872874e+02,   1.55130994e+04,   1.06268625e+01,\n",
       "         1.83229048e+02,   9.56477901e+00,   7.36037612e+00,\n",
       "         2.79019454e-03,   6.30713697e+02,   1.81380986e-01])"
      ]
     },
     "execution_count": 22,
     "metadata": {},
     "output_type": "execute_result"
    }
   ],
   "source": [
    "np.var(counts, axis=0)"
   ]
  },
  {
   "cell_type": "code",
   "execution_count": 23,
   "metadata": {
    "collapsed": false
   },
   "outputs": [
    {
     "data": {
      "text/plain": [
       "array([ 0.03757508,  0.00188708])"
      ]
     },
     "execution_count": 23,
     "metadata": {},
     "output_type": "execute_result"
    }
   ],
   "source": [
    "np.var(ratios, axis=0)"
   ]
  },
  {
   "cell_type": "code",
   "execution_count": 24,
   "metadata": {
    "collapsed": false
   },
   "outputs": [],
   "source": [
    "X_ext = scale(np.concatenate((counts, ratios), axis=1), with_mean=True, axis=0)"
   ]
  },
  {
   "cell_type": "code",
   "execution_count": 25,
   "metadata": {
    "collapsed": false
   },
   "outputs": [
    {
     "name": "stdout",
     "output_type": "stream",
     "text": [
      "confidence matrix:\n",
      "[[653  77]\n",
      " [ 45  12]]\n",
      "False Positives:\n",
      "================\n",
      "2       no americans even knew who corden was several ...\n",
      "3       my birthday was the 22nd as well and we both s...\n",
      "14                                                   lol﻿\n",
      "32                             has james put on weight ?﻿\n",
      "34                        Sorry, James Corden not Conrad﻿\n",
      "53      can&#39;t wait to see you guys this december i...\n",
      "63                               Maine Mendoza was here.﻿\n",
      "68                   great song :)) always love Coldplay﻿\n",
      "81                                                   😍😍😍﻿\n",
      "89                         ©©<br />..+..<br />Thank you.﻿\n",
      "97                                                   Oh🤔﻿\n",
      "109                                        Word of Tanks﻿\n",
      "119                                    But still though?﻿\n",
      "132                                           Irish pleb﻿\n",
      "147       brock lesnar is probably gonna try and rake it﻿\n",
      "156                                          wwe is fake﻿\n",
      "161                                          Fake Injury﻿\n",
      "183                          Did you see Grim And Dohup?﻿\n",
      "195                       Trap totally suites that beard﻿\n",
      "206                                                  Sup﻿\n",
      "213                                         hello .(*_*)﻿\n",
      "214                                          once a moon﻿\n",
      "217                  Normies trying to be funny Kill me.﻿\n",
      "222     On 4 separate occasions I have thrown somebody...\n",
      "238                                                  kkk﻿\n",
      "254                                       best this year﻿\n",
      "280                                   Thou shall say sup﻿\n",
      "330                                                  Wow﻿\n",
      "375                                        Spear chucker﻿\n",
      "404                                              Jason!!﻿\n",
      "                              ...                        \n",
      "3217    Huh.  I&#39;m sitting on that same dildo right...\n",
      "3227                                                 😂😂😂﻿\n",
      "3231                                  Is the dildo okay?﻿\n",
      "3253                                                 Lol﻿\n",
      "3256                                                 lol﻿\n",
      "3301                                              haaaaa﻿\n",
      "3302                                 witch house is back﻿\n",
      "3322                                              greasy﻿\n",
      "3338                I just wasted 12 minutes of my life.﻿\n",
      "3405    He&#39;s a fast runner doing hip hand movement...\n",
      "3421    Videos like these is why nobody takes YouTube ...\n",
      "3435    He needs to shave that atrocity on his  fuckin...\n",
      "3446    brock is brock when he is a ufc fighter. the w...\n",
      "3455                                              Juiced﻿\n",
      "3476                          He looks like my right toe﻿\n",
      "3591                                         Pure Class.﻿\n",
      "3594                                     Thanks for this﻿\n",
      "3639            where the hell is cr7 worlds best player﻿\n",
      "3661                                         What a team﻿\n",
      "3705               the ronaldo best player and the world﻿\n",
      "3741    gotta love mcgregor legend fuck diaz and the t...\n",
      "3751                                       ilginç amk :)﻿\n",
      "3773                          i hope connor gets fked up﻿\n",
      "3787    Do people think the drama is real?.... Lmao wo...\n",
      "3821                         Anyone know the outro song?﻿\n",
      "3855            This guy never worked a day in his life.﻿\n",
      "3856                           Legalize the weed already﻿\n",
      "3858                                      look a pothead﻿\n",
      "3879                                         Hes so cool﻿\n",
      "3927                    he is better than theo right now﻿\n",
      "Name: comment, dtype: object\n",
      "False Negatives:\n",
      "================\n",
      "236       ehhh fine...i&#39;ll give ya a like..assholes.﻿\n",
      "383     how the fuck was that even amazing? he threw i...\n",
      "740                                     waste of my time﻿\n",
      "778           Why are you saying that your face is gross﻿\n",
      "832     Miley completely and utterly destroyed a classic﻿\n",
      "898     I would love to ram the big man right up her h...\n",
      "899     It&#39;s a shame this racist bitch came back u...\n",
      "901                     Why is this a fucking news story﻿\n",
      "910                                         Fuck you TZM﻿\n",
      "920                                     who gives a fuck﻿\n",
      "938                               she looks like a whale﻿\n",
      "940     this is news to you?  WHO THE FUCK CARES FOR T...\n",
      "942     Imagine being stuck in a room with all those c...\n",
      "952     i dunno whats worse , the shitty video this is...\n",
      "959              So fat and stiff looking, actual whelp.﻿\n",
      "979                                        Fuck beyonce.﻿\n",
      "1091     That cleavage brought me here. She annoying bro﻿\n",
      "1093    Men don&#39;t use the dick as a tool to get ah...\n",
      "1113    The world is fucked up with labels cause a stu...\n",
      "1141    id bust a million nuts in this girl . Den give...\n",
      "1170    She got the biggest hands I&#39;ve ever seen, ...\n",
      "1205                   Why the fuck is this on trending?﻿\n",
      "1282                                                lame﻿\n",
      "1289                             Nate has to be autistic﻿\n",
      "1321              funking pussy.. drop down to 145 pussy﻿\n",
      "1378                               Nate is piece of shit﻿\n",
      "1688                                Wtf did i just watch﻿\n",
      "1724        MF isn&#39;t a kid he&#39;s a grown ass man.﻿\n",
      "1727    All I see is a spoiled white boy who even brou...\n",
      "1732    Shame on Matt Lauer... Worst I have ever seen ...\n",
      "                              ...                        \n",
      "1759    Lochte has a job waiting for him in the Trump ...\n",
      "1761                                             So dumb﻿\n",
      "1769                                  it&#39;s sooo fake﻿\n",
      "1792                              Sniff sniff. Bullshit.﻿\n",
      "1807    Don&#39;t ldt him get away with it. White man ...\n",
      "1947             &quot;insert joke about shit here&quot;﻿\n",
      "1954                                        Shit happens﻿\n",
      "2137    How fucking horrible. To use a child like that...\n",
      "2159                                 Now shoot the cunt!﻿\n",
      "2256                                               Trash﻿\n",
      "2272                                            disgrace﻿\n",
      "2300                                               Shame﻿\n",
      "2529                                  Lol crazy negroids﻿\n",
      "2584                                           Your sick﻿\n",
      "2639                &quot;Fucking stinks of shite &quot;﻿\n",
      "2666                                      Cruel bastards﻿\n",
      "2870    i fucking hate kfc and this white bastard kill...\n",
      "2876    Where in the holy fuck is the propane scented ...\n",
      "2888                 It will attract a bunch of niggers.﻿\n",
      "2914           what a bitch... sucking hillary&#39;s ass﻿\n",
      "2927               black lies matter...what a ride bitch﻿\n",
      "2952                                       Stupid Girl !﻿\n",
      "3025                                        This is gay.﻿\n",
      "3337                             What a load of bollocks﻿\n",
      "3428                     His head is like a bowling ball﻿\n",
      "3449                                 Cheating lying cunt﻿\n",
      "3458    Fuck off,your last fight was fucking awful,cir...\n",
      "3493    Stay the fuck out of my sport cheating piece o...\n",
      "3506                                             cheater﻿\n",
      "3737                        Suprise suprise motherfucker﻿\n",
      "Name: comment, dtype: object\n"
     ]
    },
    {
     "data": {
      "image/png": "[encoded data removed]",
      "text/plain": [
       "<matplotlib.figure.Figure at 0xbe27b70>"
      ]
     },
     "metadata": {},
     "output_type": "display_data"
    }
   ],
   "source": [
    "model_rfc(X_ext, Y, data.troll)"
   ]
  },
  {
   "cell_type": "markdown",
   "metadata": {},
   "source": [
    "## classifying based on generated features"
   ]
  },
  {
   "cell_type": "code",
   "execution_count": 29,
   "metadata": {
    "collapsed": false
   },
   "outputs": [
    {
     "data": {
      "text/plain": [
       "(3935, 1023)"
      ]
     },
     "execution_count": 29,
     "metadata": {},
     "output_type": "execute_result"
    }
   ],
   "source": [
    "X_sel.shape"
   ]
  },
  {
   "cell_type": "code",
   "execution_count": 30,
   "metadata": {
    "collapsed": false
   },
   "outputs": [
    {
     "name": "stdout",
     "output_type": "stream",
     "text": [
      "confidence matrix:\n",
      "[[691   9]\n",
      " [ 75  12]]\n",
      "False Positives:\n",
      "================\n",
      "302     well wel you not find it there would you its i...\n",
      "693                                     Cured my cancer.﻿\n",
      "1329    Nate is in worse shape than than the amateurs ...\n",
      "1508              Fucking greatness, I need one of those﻿\n",
      "1608                            This is so fucking cute.﻿\n",
      "1776      Why are stupid guys so freaking hot oh my god😭﻿\n",
      "2320    What&#39;s wrong with imigrants ur fucking cou...\n",
      "2597                      This comment section is cancer﻿\n",
      "2660                                     Fucking bogging﻿\n",
      "2829                                                 Wtf﻿\n",
      "Name: comment, dtype: object\n",
      "False Negatives:\n",
      "================\n",
      "13      wot a surprise can&#39;t get away from his cub...\n",
      "17      This clown is like shit on a field. Unfunny fa...\n",
      "236       ehhh fine...i&#39;ll give ya a like..assholes.﻿\n",
      "331       was that good for a blackman chucking a spear?﻿\n",
      "380                                   Well that was shit﻿\n",
      "466     Dafaq is this shit? Its exactly the same as th...\n",
      "592     Why is this kind of stuff on YouTube. It&#39;s...\n",
      "750     U shouldn&#39;t go around calling people&#39;s...\n",
      "836     They all suck they should take notes from Jaco...\n",
      "891                                   I wish she drowned﻿\n",
      "899     It&#39;s a shame this racist bitch came back u...\n",
      "920                                     who gives a fuck﻿\n",
      "952     i dunno whats worse , the shitty video this is...\n",
      "959              So fat and stiff looking, actual whelp.﻿\n",
      "962     What she said wasn&#39;t even funny and they w...\n",
      "976                   She looks like a pig in a swimsuit﻿\n",
      "980             she need to go down and gargle deez nuts﻿\n",
      "1094                CERTIFIED HOE. HOLD THIS L FOR LIFE.﻿\n",
      "1095            Her tits are why im here and now im gone﻿\n",
      "1109    I reiterate... Erica Mena isn&#39;t to be marr...\n",
      "1146                I wanna bust my load down her throat﻿\n",
      "1168                       can i unshine your boobs bae?﻿\n",
      "1169    she&#39;s confused at what a hoe is?? I&#39;m ...\n",
      "1170    She got the biggest hands I&#39;ve ever seen, ...\n",
      "1188    Classy word for &quot;hoe&quot;? How bout esco...\n",
      "1282                                                lame﻿\n",
      "1344    Conor knocked him retarded.... Is the scar tis...\n",
      "1551                                 ha he sounds so gay﻿\n",
      "1688                                Wtf did i just watch﻿\n",
      "1725    I can&#39;t even stand the site of this asshol...\n",
      "                              ...                        \n",
      "2248    Oh look! Two people trying to be famous off of...\n",
      "2258                                      wtf he wearing﻿\n",
      "2272                                            disgrace﻿\n",
      "2288                    this is such a stupid show eurgh﻿\n",
      "2300                                               Shame﻿\n",
      "2303                                   He&#39;s so gross﻿\n",
      "2417    bunch of dumb bitches gossiping is made into a...\n",
      "2587    Filmed sideways like a dumb retard from the Un...\n",
      "2598                             stinks uh fucking shite﻿\n",
      "2630                       ENGLAND IS A FUCKING SHITHOLE﻿\n",
      "2639                &quot;Fucking stinks of shite &quot;﻿\n",
      "2666                                      Cruel bastards﻿\n",
      "2753    HOW COULD THOSE TWO PIG SKIN TURDS BE SO FREAK...\n",
      "2888                 It will attract a bunch of niggers.﻿\n",
      "3018                                                 No.﻿\n",
      "3103    Steve Job was an asshoe and only asshoes buy a...\n",
      "3337                             What a load of bollocks﻿\n",
      "3352                     Ffs how fucking deluded are you﻿\n",
      "3366                        You&#39;re fucking dumb lmao﻿\n",
      "3373    disliked before watching you fucking illuminat...\n",
      "3413                                         Sad prick 😂﻿\n",
      "3425            hw was juiced up to his fucking eyeballs﻿\n",
      "3429    This fucking juice head has no place in the UF...\n",
      "3466               I take shits bigger than Brock Lesnar﻿\n",
      "3515                                   PED peace of shit﻿\n",
      "3516                                     Complete douche﻿\n",
      "3565                                       fuck ya Eddie﻿\n",
      "3736                               Surprise dumb fucker!﻿\n",
      "3749           Gilbert is a fucking bum lol. so annoying﻿\n",
      "3825    Conor is such a little bitch. He&#39;s going t...\n",
      "Name: comment, dtype: object\n"
     ]
    },
    {
     "data": {
      "image/png": "[encoded data removed]",
      "text/plain": [
       "<matplotlib.figure.Figure at 0xcc30f60>"
      ]
     },
     "metadata": {},
     "output_type": "display_data"
    }
   ],
   "source": [
    "model_rfc(np.concatenate((X_sel.toarray(), X_ext), axis=1), Y, data.troll)"
   ]
  },
  {
   "cell_type": "markdown",
   "metadata": {},
   "source": [
    "## visualizing some of the features"
   ]
  },
  {
   "cell_type": "code",
   "execution_count": null,
   "metadata": {
    "collapsed": false
   },
   "outputs": [],
   "source": [
    "colors = ['r', 'b']\n",
    "label_colors = [colors[lab] for lab in data.troll.values]\n",
    "\n",
    "plt.scatter(X_pca[:,3], X_pca[:,2], \n",
    "            s=10,\n",
    "            lw=0.1,\n",
    "            c=label_colors,\n",
    "            alpha=0.3)"
   ]
  },
  {
   "cell_type": "code",
   "execution_count": null,
   "metadata": {
    "collapsed": false
   },
   "outputs": [],
   "source": [
    "a = plt.hist(X_ext[:,-1], bins=100)"
   ]
  },
  {
   "cell_type": "markdown",
   "metadata": {},
   "source": [
    "## using isolation forest"
   ]
  },
  {
   "cell_type": "code",
   "execution_count": null,
   "metadata": {
    "collapsed": false
   },
   "outputs": [],
   "source": [
    "from sklearn.ensemble import IsolationForest\n",
    "\n",
    "def model_ifc(X, Y):\n",
    "    X_train, X_test, y_train, y_test = train_test_split(X, Y, train_size=.80)\n",
    "    clf = IsolationForest(n_estimators=100)\n",
    "    clf.fit(X_train, y_train)\n",
    "    clf_probs = clf.predict(X_test) < 0\n",
    "    score = confusion_matrix(y_test, clf_probs)\n",
    "    print(score)"
   ]
  },
  {
   "cell_type": "code",
   "execution_count": null,
   "metadata": {
    "collapsed": false
   },
   "outputs": [],
   "source": [
    "model_ifc(X_pca, Y)"
   ]
  },
  {
   "cell_type": "markdown",
   "metadata": {},
   "source": [
    "# Questions\n",
    "* does it make sense to do variance based feature selection when dealing with imbalanced label sizes?"
   ]
  },
  {
   "cell_type": "code",
   "execution_count": null,
   "metadata": {
    "collapsed": true
   },
   "outputs": [],
   "source": []
  }
 ],
 "metadata": {
  "anaconda-cloud": {},
  "kernelspec": {
   "display_name": "Python [default]",
   "language": "python",
   "name": "python3"
  },
  "language_info": {
   "codemirror_mode": {
    "name": "ipython",
    "version": 3
   },
   "file_extension": ".py",
   "mimetype": "text/x-python",
   "name": "python",
   "nbconvert_exporter": "python",
   "pygments_lexer": "ipython3",
   "version": "3.5.2"
  }
 },
 "nbformat": 4,
 "nbformat_minor": 1
}
