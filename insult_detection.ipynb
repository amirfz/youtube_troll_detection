{
 "cells": [
  {
   "cell_type": "code",
   "execution_count": 1,
   "metadata": {
    "collapsed": false
   },
   "outputs": [],
   "source": [
    "import numpy as np\n",
    "import pandas as pd\n",
    "import matplotlib.pyplot as plt\n",
    "import nltk\n",
    "import re\n",
    "import seaborn as sns\n",
    "\n",
    "from nltk.corpus import stopwords\n",
    "from nltk.stem import PorterStemmer\n",
    "from scipy import sparse\n",
    "\n",
    "from sklearn.base import BaseEstimator\n",
    "from sklearn.ensemble import RandomForestClassifier\n",
    "from sklearn.linear_model import LogisticRegression\n",
    "\n",
    "from sklearn.feature_extraction.text import TfidfVectorizer\n",
    "from sklearn.preprocessing import normalize, LabelEncoder\n",
    "from sklearn.feature_selection import SelectPercentile, chi2\n",
    "from sklearn.model_selection import train_test_split\n",
    "from sklearn.metrics import confusion_matrix, log_loss\n",
    "from sklearn.metrics import f1_score, make_scorer\n",
    "from sklearn.pipeline import Pipeline\n",
    "from sklearn.model_selection import GridSearchCV\n",
    "\n",
    "%matplotlib inline"
   ]
  },
  {
   "cell_type": "markdown",
   "metadata": {},
   "source": [
    "## read in the data"
   ]
  },
  {
   "cell_type": "code",
   "execution_count": 2,
   "metadata": {
    "collapsed": false
   },
   "outputs": [],
   "source": [
    "data = pd.read_csv('youtube-comments.csv')"
   ]
  },
  {
   "cell_type": "code",
   "execution_count": 3,
   "metadata": {
    "collapsed": false
   },
   "outputs": [
    {
     "data": {
      "text/html": [
       "<div>\n",
       "<table border=\"1\" class=\"dataframe\">\n",
       "  <thead>\n",
       "    <tr style=\"text-align: right;\">\n",
       "      <th></th>\n",
       "      <th>comment</th>\n",
       "      <th>troll</th>\n",
       "      <th>title</th>\n",
       "      <th>views</th>\n",
       "      <th>dislikes</th>\n",
       "      <th>commentCount</th>\n",
       "      <th>likes</th>\n",
       "      <th>replies</th>\n",
       "      <th>id</th>\n",
       "    </tr>\n",
       "  </thead>\n",
       "  <tbody>\n",
       "    <tr>\n",
       "      <th>0</th>\n",
       "      <td>What a lucky guy, got celebrated birthday on c...</td>\n",
       "      <td>0</td>\n",
       "      <td>Nothing Compares 2 U (Live in LA w/ James Corden)</td>\n",
       "      <td>469414</td>\n",
       "      <td>263</td>\n",
       "      <td>1123</td>\n",
       "      <td>19392</td>\n",
       "      <td>0</td>\n",
       "      <td>mak_Cu9Wl6w</td>\n",
       "    </tr>\n",
       "    <tr>\n",
       "      <th>1</th>\n",
       "      <td>Love it﻿</td>\n",
       "      <td>0</td>\n",
       "      <td>Nothing Compares 2 U (Live in LA w/ James Corden)</td>\n",
       "      <td>469414</td>\n",
       "      <td>263</td>\n",
       "      <td>1123</td>\n",
       "      <td>19392</td>\n",
       "      <td>0</td>\n",
       "      <td>mak_Cu9Wl6w</td>\n",
       "    </tr>\n",
       "    <tr>\n",
       "      <th>2</th>\n",
       "      <td>no americans even knew who corden was several ...</td>\n",
       "      <td>0</td>\n",
       "      <td>Nothing Compares 2 U (Live in LA w/ James Corden)</td>\n",
       "      <td>469414</td>\n",
       "      <td>263</td>\n",
       "      <td>1123</td>\n",
       "      <td>19392</td>\n",
       "      <td>0</td>\n",
       "      <td>mak_Cu9Wl6w</td>\n",
       "    </tr>\n",
       "    <tr>\n",
       "      <th>3</th>\n",
       "      <td>my birthday was the 22nd as well and we both s...</td>\n",
       "      <td>0</td>\n",
       "      <td>Nothing Compares 2 U (Live in LA w/ James Corden)</td>\n",
       "      <td>469414</td>\n",
       "      <td>263</td>\n",
       "      <td>1123</td>\n",
       "      <td>19392</td>\n",
       "      <td>0</td>\n",
       "      <td>mak_Cu9Wl6w</td>\n",
       "    </tr>\n",
       "    <tr>\n",
       "      <th>4</th>\n",
       "      <td>OMG IM CRYING﻿</td>\n",
       "      <td>0</td>\n",
       "      <td>Nothing Compares 2 U (Live in LA w/ James Corden)</td>\n",
       "      <td>469414</td>\n",
       "      <td>263</td>\n",
       "      <td>1123</td>\n",
       "      <td>19392</td>\n",
       "      <td>0</td>\n",
       "      <td>mak_Cu9Wl6w</td>\n",
       "    </tr>\n",
       "  </tbody>\n",
       "</table>\n",
       "</div>"
      ],
      "text/plain": [
       "                                             comment  troll  \\\n",
       "0  What a lucky guy, got celebrated birthday on c...      0   \n",
       "1                                           Love it﻿      0   \n",
       "2  no americans even knew who corden was several ...      0   \n",
       "3  my birthday was the 22nd as well and we both s...      0   \n",
       "4                                     OMG IM CRYING﻿      0   \n",
       "\n",
       "                                               title   views  dislikes  \\\n",
       "0  Nothing Compares 2 U (Live in LA w/ James Corden)  469414       263   \n",
       "1  Nothing Compares 2 U (Live in LA w/ James Corden)  469414       263   \n",
       "2  Nothing Compares 2 U (Live in LA w/ James Corden)  469414       263   \n",
       "3  Nothing Compares 2 U (Live in LA w/ James Corden)  469414       263   \n",
       "4  Nothing Compares 2 U (Live in LA w/ James Corden)  469414       263   \n",
       "\n",
       "   commentCount  likes  replies           id  \n",
       "0          1123  19392        0  mak_Cu9Wl6w  \n",
       "1          1123  19392        0  mak_Cu9Wl6w  \n",
       "2          1123  19392        0  mak_Cu9Wl6w  \n",
       "3          1123  19392        0  mak_Cu9Wl6w  \n",
       "4          1123  19392        0  mak_Cu9Wl6w  "
      ]
     },
     "execution_count": 3,
     "metadata": {},
     "output_type": "execute_result"
    }
   ],
   "source": [
    "data.head()"
   ]
  },
  {
   "cell_type": "markdown",
   "metadata": {},
   "source": [
    "## cleaning the text"
   ]
  },
  {
   "cell_type": "code",
   "execution_count": 4,
   "metadata": {
    "collapsed": false
   },
   "outputs": [],
   "source": [
    "def cleaner(text):\n",
    "    '''Function to clean the text data and prep for further analysis'''\n",
    "    stops = set(stopwords.words(\"english\"))       # Creating a set of Stopwords\n",
    "    p_stemmer = PorterStemmer()                   # Creating the stemmer model\n",
    "    text = re.sub(\"&#39;\",'', text)               # removing '&#39;' that represents apastrophe\n",
    "    text = re.sub(r\"</?\\w+[^>]*>\", ' tag ', text) # dealing with html tags\n",
    "    text = re.sub(r'(.)\\1+', r'\\1\\1', text)       # reducing the repeated letters to at most two\n",
    "    text = re.sub(\"[^a-zA-Z@!0-9]\", ' ', text)    # removing anythin other alpha-numerical char's and @ and !\n",
    "    text = text.split()                          # Splits the data into individual words \n",
    "    text = [w for w in text if not w in stops]   # Removes stopwords\n",
    "    text = [p_stemmer.stem(i) for i in text]     # Stemming (reducing words to their root)\n",
    "    if not len(text):                            # dealing with comments that are all emojis, stop words or other languages\n",
    "        text = ['emostwol']\n",
    "    return ' '.join(text)"
   ]
  },
  {
   "cell_type": "code",
   "execution_count": 5,
   "metadata": {
    "collapsed": false
   },
   "outputs": [],
   "source": [
    "data['clean'] = data['comment'].apply(cleaner)"
   ]
  },
  {
   "cell_type": "code",
   "execution_count": 6,
   "metadata": {
    "collapsed": false
   },
   "outputs": [
    {
     "data": {
      "text/html": [
       "<div>\n",
       "<table border=\"1\" class=\"dataframe\">\n",
       "  <thead>\n",
       "    <tr style=\"text-align: right;\">\n",
       "      <th></th>\n",
       "      <th>comment</th>\n",
       "      <th>troll</th>\n",
       "      <th>title</th>\n",
       "      <th>views</th>\n",
       "      <th>dislikes</th>\n",
       "      <th>commentCount</th>\n",
       "      <th>likes</th>\n",
       "      <th>replies</th>\n",
       "      <th>id</th>\n",
       "      <th>clean</th>\n",
       "    </tr>\n",
       "  </thead>\n",
       "  <tbody>\n",
       "    <tr>\n",
       "      <th>0</th>\n",
       "      <td>What a lucky guy, got celebrated birthday on c...</td>\n",
       "      <td>0</td>\n",
       "      <td>Nothing Compares 2 U (Live in LA w/ James Corden)</td>\n",
       "      <td>469414</td>\n",
       "      <td>263</td>\n",
       "      <td>1123</td>\n",
       "      <td>19392</td>\n",
       "      <td>0</td>\n",
       "      <td>mak_Cu9Wl6w</td>\n",
       "      <td>What lucki guy got celebr birthday concert bil...</td>\n",
       "    </tr>\n",
       "    <tr>\n",
       "      <th>1</th>\n",
       "      <td>Love it﻿</td>\n",
       "      <td>0</td>\n",
       "      <td>Nothing Compares 2 U (Live in LA w/ James Corden)</td>\n",
       "      <td>469414</td>\n",
       "      <td>263</td>\n",
       "      <td>1123</td>\n",
       "      <td>19392</td>\n",
       "      <td>0</td>\n",
       "      <td>mak_Cu9Wl6w</td>\n",
       "      <td>Love</td>\n",
       "    </tr>\n",
       "    <tr>\n",
       "      <th>2</th>\n",
       "      <td>no americans even knew who corden was several ...</td>\n",
       "      <td>0</td>\n",
       "      <td>Nothing Compares 2 U (Live in LA w/ James Corden)</td>\n",
       "      <td>469414</td>\n",
       "      <td>263</td>\n",
       "      <td>1123</td>\n",
       "      <td>19392</td>\n",
       "      <td>0</td>\n",
       "      <td>mak_Cu9Wl6w</td>\n",
       "      <td>american even knew corden sever year ago</td>\n",
       "    </tr>\n",
       "    <tr>\n",
       "      <th>3</th>\n",
       "      <td>my birthday was the 22nd as well and we both s...</td>\n",
       "      <td>0</td>\n",
       "      <td>Nothing Compares 2 U (Live in LA w/ James Corden)</td>\n",
       "      <td>469414</td>\n",
       "      <td>263</td>\n",
       "      <td>1123</td>\n",
       "      <td>19392</td>\n",
       "      <td>0</td>\n",
       "      <td>mak_Cu9Wl6w</td>\n",
       "      <td>birthday 22nd well support west ham</td>\n",
       "    </tr>\n",
       "    <tr>\n",
       "      <th>4</th>\n",
       "      <td>OMG IM CRYING﻿</td>\n",
       "      <td>0</td>\n",
       "      <td>Nothing Compares 2 U (Live in LA w/ James Corden)</td>\n",
       "      <td>469414</td>\n",
       "      <td>263</td>\n",
       "      <td>1123</td>\n",
       "      <td>19392</td>\n",
       "      <td>0</td>\n",
       "      <td>mak_Cu9Wl6w</td>\n",
       "      <td>OMG IM CRi</td>\n",
       "    </tr>\n",
       "  </tbody>\n",
       "</table>\n",
       "</div>"
      ],
      "text/plain": [
       "                                             comment  troll  \\\n",
       "0  What a lucky guy, got celebrated birthday on c...      0   \n",
       "1                                           Love it﻿      0   \n",
       "2  no americans even knew who corden was several ...      0   \n",
       "3  my birthday was the 22nd as well and we both s...      0   \n",
       "4                                     OMG IM CRYING﻿      0   \n",
       "\n",
       "                                               title   views  dislikes  \\\n",
       "0  Nothing Compares 2 U (Live in LA w/ James Corden)  469414       263   \n",
       "1  Nothing Compares 2 U (Live in LA w/ James Corden)  469414       263   \n",
       "2  Nothing Compares 2 U (Live in LA w/ James Corden)  469414       263   \n",
       "3  Nothing Compares 2 U (Live in LA w/ James Corden)  469414       263   \n",
       "4  Nothing Compares 2 U (Live in LA w/ James Corden)  469414       263   \n",
       "\n",
       "   commentCount  likes  replies           id  \\\n",
       "0          1123  19392        0  mak_Cu9Wl6w   \n",
       "1          1123  19392        0  mak_Cu9Wl6w   \n",
       "2          1123  19392        0  mak_Cu9Wl6w   \n",
       "3          1123  19392        0  mak_Cu9Wl6w   \n",
       "4          1123  19392        0  mak_Cu9Wl6w   \n",
       "\n",
       "                                               clean  \n",
       "0  What lucki guy got celebr birthday concert bil...  \n",
       "1                                               Love  \n",
       "2           american even knew corden sever year ago  \n",
       "3                birthday 22nd well support west ham  \n",
       "4                                         OMG IM CRi  "
      ]
     },
     "execution_count": 6,
     "metadata": {},
     "output_type": "execute_result"
    }
   ],
   "source": [
    "data.head()"
   ]
  },
  {
   "cell_type": "code",
   "execution_count": 7,
   "metadata": {
    "collapsed": false
   },
   "outputs": [
    {
     "data": {
      "image/png": "[encoded data removed]",
      "text/plain": [
       "<matplotlib.figure.Figure at 0xbf3e9e8>"
      ]
     },
     "metadata": {},
     "output_type": "display_data"
    }
   ],
   "source": [
    "a=plt.hist(data['likes'], bins=50)"
   ]
  },
  {
   "cell_type": "markdown",
   "metadata": {},
   "source": [
    "## Building the pipeline"
   ]
  },
  {
   "cell_type": "code",
   "execution_count": 8,
   "metadata": {
    "collapsed": false
   },
   "outputs": [
    {
     "data": {
      "text/plain": [
       "<Signature (input='content', encoding='utf-8', decode_error='strict', strip_accents=None, lowercase=True, preprocessor=None, tokenizer=None, analyzer='word', stop_words=None, token_pattern='(?u)\\\\b\\\\w\\\\w+\\\\b', ngram_range=(1, 1), max_df=1.0, min_df=1, max_features=None, vocabulary=None, binary=False, dtype=<class 'numpy.int64'>, norm='l2', use_idf=True, smooth_idf=True, sublinear_tf=False)>"
      ]
     },
     "execution_count": 8,
     "metadata": {},
     "output_type": "execute_result"
    }
   ],
   "source": [
    "import inspect\n",
    "inspect.signature(TfidfVectorizer)"
   ]
  },
  {
   "cell_type": "code",
   "execution_count": 9,
   "metadata": {
    "collapsed": false
   },
   "outputs": [],
   "source": [
    "class vectorizer(TfidfVectorizer):\n",
    "    def __init__(self, \n",
    "                 input='content', \n",
    "                 encoding='utf-8', \n",
    "                 decode_error='strict', \n",
    "                 strip_accents=None, \n",
    "                 lowercase=True, \n",
    "                 preprocessor=None, \n",
    "                 tokenizer=None, \n",
    "                 analyzer='word', \n",
    "                 stop_words=None, \n",
    "                 token_pattern='(?u)\\\\b\\\\w\\\\w+\\\\b', \n",
    "                 ngram_range=(1, 1), \n",
    "                 max_df=1.0, \n",
    "                 min_df=1, \n",
    "                 max_features=None, \n",
    "                 vocabulary=None, \n",
    "                 binary=False,  \n",
    "                 norm='l2', \n",
    "                 use_idf=True, \n",
    "                 smooth_idf=True, \n",
    "                 sublinear_tf=False):\n",
    "        super().__init__(input='content', \n",
    "                         encoding='utf-8', \n",
    "                         decode_error='strict', \n",
    "                         strip_accents=None, \n",
    "                         lowercase=True, \n",
    "                         preprocessor=None, \n",
    "                         tokenizer=None, \n",
    "                         analyzer='word', \n",
    "                         stop_words=None, \n",
    "                         token_pattern='(?u)\\\\b\\\\w\\\\w+\\\\b', \n",
    "                         ngram_range=(1, 1), \n",
    "                         max_df=1.0, \n",
    "                         min_df=1, \n",
    "                         max_features=None, \n",
    "                         vocabulary=None, \n",
    "                         binary=False, \n",
    "                         norm='l2', \n",
    "                         use_idf=True, \n",
    "                         smooth_idf=True, \n",
    "                         sublinear_tf=False)\n",
    "\n",
    "    def fit(self, df, y=None):\n",
    "        X = df.clean\n",
    "        return super().fit(X, y)\n",
    "\n",
    "    def transform(self, df):  \n",
    "        X = df.clean\n",
    "        return super().transform(X)"
   ]
  },
  {
   "cell_type": "code",
   "execution_count": 10,
   "metadata": {
    "collapsed": false
   },
   "outputs": [],
   "source": [
    "class generate_video_stats(BaseEstimator):\n",
    "    def __init__(self):\n",
    "        pass\n",
    "\n",
    "    def get_feature_names(self):\n",
    "        return np.array(['views', 'dislikes', 'commentCount', 'likes', 'replies'])\n",
    "\n",
    "    def fit(self, df, y=None):\n",
    "        return self\n",
    "\n",
    "    def transform(self, df):        \n",
    "        output = df[['views', 'dislikes', 'commentCount', 'likes', 'replies']]\n",
    "        return normalize(output, axis=0, norm='l2')"
   ]
  },
  {
   "cell_type": "code",
   "execution_count": 11,
   "metadata": {
    "collapsed": false
   },
   "outputs": [],
   "source": [
    "class text_feature_transformer(BaseEstimator):\n",
    "    def __init__(self):\n",
    "        with open(\"my_badlist3.txt\") as f:\n",
    "            badwords = [l.strip() for l in f.readlines()]\n",
    "        self.badwords_ = badwords\n",
    "\n",
    "    def get_feature_names(self):\n",
    "        return np.array(['n_words', 'n_chars', 'allcaps', 'max_len',\n",
    "            'mean_len', '@', '!', 'spaces', 'bad_ratio', 'n_bad',\n",
    "            'capsratio'])\n",
    "\n",
    "    def fit(self, df, y=None):\n",
    "        return self\n",
    "\n",
    "    def transform(self, df): \n",
    "        documents = df.clean\n",
    "        ## some handcrafted features!\n",
    "        n_words = [len(c.split()) for c in documents]\n",
    "        n_chars = [len(c) for c in documents]\n",
    "        # number of uppercase words\n",
    "        allcaps = [np.sum([w.isupper() for w in c.split()])\n",
    "               for c in documents]\n",
    "        # longest word\n",
    "        max_word_len = [np.max([len(w) for w in c.split()]) for c in (documents)]\n",
    "        # average word length\n",
    "        mean_word_len = [np.mean([len(w) for w in c.split()])\n",
    "                                            for c in (documents)]\n",
    "        # number of google badwords:\n",
    "        n_bad = [np.sum([c.lower().count(w) for w in self.badwords_])\n",
    "                                                for c in documents]\n",
    "        exclamation = [c.count(\"!\") for c in documents]\n",
    "        addressing = [c.count(\"@\") for c in documents]\n",
    "        spaces = [c.count(\" \") for c in documents]\n",
    "\n",
    "        n_words[n_words==0] = 1\n",
    "        allcaps_ratio = np.array(allcaps) / np.array(n_words, dtype=np.float)\n",
    "        bad_ratio = np.array(n_bad) / np.array(n_words, dtype=np.float)\n",
    "        \n",
    "        output = np.array([n_words, n_chars, allcaps, max_word_len,\n",
    "            mean_word_len, exclamation, addressing, spaces, bad_ratio, n_bad,\n",
    "            allcaps_ratio]).T\n",
    "\n",
    "        return normalize(output, axis=0, norm='l2')"
   ]
  },
  {
   "cell_type": "code",
   "execution_count": 12,
   "metadata": {
    "collapsed": true
   },
   "outputs": [],
   "source": [
    "class feature_stacker(BaseEstimator):\n",
    "    \"\"\"Stacks several transformer objects to yield concatenated features.\n",
    "    Similar to pipeline, a list of tuples ``(name, estimator)`` is passed\n",
    "    to the constructor.\n",
    "    \"\"\"\n",
    "    def __init__(self, transformer_list):\n",
    "        self.transformer_list = transformer_list\n",
    "\n",
    "    def get_feature_names(self):\n",
    "        feature_names = []\n",
    "        for name, trans in self.transformer_list:\n",
    "            feature_names.extend(trans.get_feature_names())\n",
    "        feature_names = [\" \".join(w) if isinstance(w, tuple) else w\n",
    "                            for w in feature_names]\n",
    "        return np.array(feature_names)\n",
    "\n",
    "    def fit(self, X, y=None):\n",
    "        for name, trans in self.transformer_list:\n",
    "            trans.fit(X, y)\n",
    "        return self\n",
    "\n",
    "    def transform(self, X):\n",
    "        features = []\n",
    "        for name, trans in self.transformer_list:\n",
    "            features.append(trans.transform(X))\n",
    "        issparse = [sparse.issparse(f) for f in features]\n",
    "        if np.any(issparse):\n",
    "            features = sparse.hstack(features).tocsr()\n",
    "        else:\n",
    "            features = np.hstack(features)\n",
    "        return features\n",
    "\n",
    "    def get_params(self, deep=True):\n",
    "        if not deep:\n",
    "            return super(feature_stacker, self).get_params(deep=False)\n",
    "        else:\n",
    "            out = dict(self.transformer_list)\n",
    "            for name, trans in self.transformer_list:\n",
    "                for key, value in trans.get_params(deep=True).items():\n",
    "                    out['%s__%s' % (name, key)] = value\n",
    "            return out"
   ]
  },
  {
   "cell_type": "code",
   "execution_count": 13,
   "metadata": {
    "collapsed": false
   },
   "outputs": [],
   "source": [
    "vectorizer_word = vectorizer(lowercase=False,\n",
    "                             analyzer=u'word',\n",
    "                             ngram_range=(1, 3),\n",
    "                             stop_words='english',\n",
    "                             binary=False,\n",
    "                             norm=u'l2', \n",
    "                             use_idf=True, \n",
    "                             smooth_idf=True, \n",
    "                             sublinear_tf=True,\n",
    "                             min_df=3)"
   ]
  },
  {
   "cell_type": "code",
   "execution_count": 14,
   "metadata": {
    "collapsed": true
   },
   "outputs": [],
   "source": [
    "vectorizer_char = vectorizer(lowercase=False,\n",
    "                             analyzer=u'char',\n",
    "                             ngram_range=(1, 5),\n",
    "                             stop_words='english',\n",
    "                             binary=False,\n",
    "                             norm=u'l2', \n",
    "                             use_idf=True, \n",
    "                             smooth_idf=True, \n",
    "                             sublinear_tf=True)"
   ]
  },
  {
   "cell_type": "code",
   "execution_count": 15,
   "metadata": {
    "collapsed": true
   },
   "outputs": [],
   "source": [
    "select = SelectPercentile(score_func=chi2, percentile=1)"
   ]
  },
  {
   "cell_type": "code",
   "execution_count": 16,
   "metadata": {
    "collapsed": true
   },
   "outputs": [],
   "source": [
    "clf = LogisticRegression(tol=1e-8, penalty='l2', C=8, class_weight='balanced')"
   ]
  },
  {
   "cell_type": "code",
   "execution_count": 17,
   "metadata": {
    "collapsed": false
   },
   "outputs": [],
   "source": [
    "tft = text_feature_transformer()"
   ]
  },
  {
   "cell_type": "code",
   "execution_count": 18,
   "metadata": {
    "collapsed": true
   },
   "outputs": [],
   "source": [
    "vs = generate_video_stats()"
   ]
  },
  {
   "cell_type": "code",
   "execution_count": 45,
   "metadata": {
    "collapsed": false
   },
   "outputs": [],
   "source": [
    "ft = feature_stacker([(\"text\", tft), \n",
    "                      (\"chars\", vectorizer_char),\n",
    "                      (\"words\", vectorizer_word),\n",
    "                      (\"stats\", vs)])"
   ]
  },
  {
   "cell_type": "code",
   "execution_count": 46,
   "metadata": {
    "collapsed": false
   },
   "outputs": [],
   "source": [
    "model = Pipeline([('vect', ft), ('select', select), ('logr', clf)])"
   ]
  },
  {
   "cell_type": "markdown",
   "metadata": {},
   "source": [
    "## creating labels"
   ]
  },
  {
   "cell_type": "code",
   "execution_count": 22,
   "metadata": {
    "collapsed": false
   },
   "outputs": [],
   "source": [
    "le = LabelEncoder()\n",
    "le.fit(data.troll.values)\n",
    "Y = le.transform(data.troll.values) "
   ]
  },
  {
   "cell_type": "markdown",
   "metadata": {},
   "source": [
    "## doing a grid search"
   ]
  },
  {
   "cell_type": "markdown",
   "metadata": {},
   "source": [
    "GridSearchCV is really slow on my machine, need a proper GPU to run this properly, so trying to do the search by hand"
   ]
  },
  {
   "cell_type": "code",
   "execution_count": 23,
   "metadata": {
    "collapsed": false
   },
   "outputs": [],
   "source": [
    "parameters = {\n",
    "    'vect__chars__ngram_range': ((1, 2), (1, 4), (1,5), (1,6)),  ###best (1,5)\n",
    "    #'vect__words__ngram_range': ((1, 1), (1, 2), (1,3), (1,4)),  ###best (1,1)\n",
    "    #'vect__words__use_idf': (True, False), ###best False\n",
    "    #'vect__words__norm': ('l1', 'l2'), ###best l2\n",
    "    #'select__percentile': (0.1, 1, 10, 20, 30), ###best 10\n",
    "    #'logr__C': (1, 6, 7, 8, 9, 10, 15, 30) ###best 9\n",
    "}"
   ]
  },
  {
   "cell_type": "code",
   "execution_count": 24,
   "metadata": {
    "collapsed": false
   },
   "outputs": [],
   "source": [
    "# model.get_params()"
   ]
  },
  {
   "cell_type": "code",
   "execution_count": 25,
   "metadata": {
    "collapsed": false
   },
   "outputs": [
    {
     "name": "stdout",
     "output_type": "stream",
     "text": [
      "parameter vect__chars__ngram_range = (1, 2)\n",
      "0.524598822023\n",
      "parameter vect__chars__ngram_range = (1, 4)\n",
      "0.499181635017\n",
      "parameter vect__chars__ngram_range = (1, 5)\n",
      "0.504430590173\n",
      "parameter vect__chars__ngram_range = (1, 6)\n",
      "0.491579431969\n",
      "Wall time: 1min 18s\n"
     ]
    }
   ],
   "source": [
    "%%time\n",
    "\n",
    "num_trials = 5\n",
    "for i, param_key in enumerate(parameters):\n",
    "    for param_value in parameters[param_key]:\n",
    "        print('parameter {} = {}'.format(param_key, param_value))\n",
    "        fscore = np.zeros(num_trials)\n",
    "        for j in range(num_trials):\n",
    "            X_train, X_test, y_train, y_test = train_test_split(data, Y, train_size=.80)\n",
    "            pred = model.set_params(vect__chars__ngram_range=param_value).fit(X_train,y_train).predict(X_test)\n",
    "            fscore[j] = f1_score(pred, y_test)\n",
    "        print(np.mean(fscore))"
   ]
  },
  {
   "cell_type": "markdown",
   "metadata": {},
   "source": [
    "## applying the pipeline with optimum values"
   ]
  },
  {
   "cell_type": "code",
   "execution_count": 26,
   "metadata": {
    "collapsed": true
   },
   "outputs": [],
   "source": [
    "X_train, X_test, y_train, y_test = train_test_split(data, Y, train_size=.80)"
   ]
  },
  {
   "cell_type": "code",
   "execution_count": 47,
   "metadata": {
    "collapsed": false
   },
   "outputs": [],
   "source": [
    "pred = model.set_params(vect__chars__ngram_range=(1,5),\n",
    "                        vect__words__ngram_range=(1,1),\n",
    "                        vect__words__use_idf=False,\n",
    "                        vect__words__norm='l2',\n",
    "                        select__percentile=10,\n",
    "                        logr__C=9).fit(X_train,y_train).predict(X_test)"
   ]
  },
  {
   "cell_type": "code",
   "execution_count": 48,
   "metadata": {
    "collapsed": false
   },
   "outputs": [
    {
     "name": "stdout",
     "output_type": "stream",
     "text": [
      "f1 score:\n",
      "0.510638297872\n",
      "confusion matrix:\n",
      "[[682  38]\n",
      " [ 31  36]]\n",
      "log loss:\n",
      "3.02821595419\n"
     ]
    }
   ],
   "source": [
    "print('f1 score:')\n",
    "print(f1_score(y_test, pred))\n",
    "print('confusion matrix:')\n",
    "print(confusion_matrix(y_test, pred))\n",
    "print('log loss:')\n",
    "print(log_loss(y_test, pred))"
   ]
  },
  {
   "cell_type": "code",
   "execution_count": 29,
   "metadata": {
    "collapsed": false,
    "scrolled": false
   },
   "outputs": [
    {
     "name": "stdout",
     "output_type": "stream",
     "text": [
      "True Positives:\n",
      "================\n",
      "13      wot a surprise can&#39;t get away from his cub...\n",
      "17      This clown is like shit on a field. Unfunny fa...\n",
      "57                                         fecking awful﻿\n",
      "84                                 What a bunch of cunts﻿\n",
      "229     6 months? ...fuck that. At least give people a...\n",
      "236       ehhh fine...i&#39;ll give ya a like..assholes.﻿\n",
      "257     Don&#39;t agree with the gluten free one. Fuck...\n",
      "307                                        cheating scum﻿\n",
      "308                                               nigger﻿\n",
      "331       was that good for a blackman chucking a spear?﻿\n",
      "339     this nigga was the cause of my dad getting &qu...\n",
      "380                                   Well that was shit﻿\n",
      "383     how the fuck was that even amazing? he threw i...\n",
      "464              Another shitty female lead action movie﻿\n",
      "467     I don&#39;t think I can survive two hours of H...\n",
      "592     Why is this kind of stuff on YouTube. It&#39;s...\n",
      "703                                               Cancer﻿\n",
      "716     if he laughed in front of me I&#39;d be fuckin...\n",
      "735     ..... I can&#39;t decide if that funny or sad....\n",
      "738                                    how is this funny﻿\n",
      "740                                     waste of my time﻿\n",
      "744                                 what the actual fuck﻿\n",
      "750     U shouldn&#39;t go around calling people&#39;s...\n",
      "758     Fuck this website the like ratio shows how int...\n",
      "770     This shit was trending when it had 2k views. S...\n",
      "772     how is this on trending cause that is what mos...\n",
      "774     R.I.P to that 20seconds Ill never get back.  I...\n",
      "777                                           goofy fuck﻿\n",
      "785                                          Wtf is this﻿\n",
      "831                           dafuck is this. no just no﻿\n",
      "                              ...                        \n",
      "3466               I take shits bigger than Brock Lesnar﻿\n",
      "3471                                    Cheating scumbag﻿\n",
      "3475         Stay the fuck out of mma you cheating fuck.﻿\n",
      "3485                                Steroid using coward﻿\n",
      "3488                  put more roids in your ass cheater﻿\n",
      "3490    NATE DIAZ HIT THE DECK 3 TIMES LIKE A BITCH. Q...\n",
      "3493    Stay the fuck out of my sport cheating piece o...\n",
      "3495             Fuck off you stupid fucking doping shit﻿\n",
      "3496    Go fuck yourself u jucing little excuse using ...\n",
      "3500    Fuck NO Lesnar UFC fight Fans Dont want you <b...\n",
      "3504    PATHETIC BASEMENT DWELLING VIRGINS DEFENDING H...\n",
      "3506                                             cheater﻿\n",
      "3509    THESE FAGGOTS ARE COMMENTING SAYING HE WOULD B...\n",
      "3511    COMPLETE DISGUSTING JUICED UP BITCH, ALL HIS F...\n",
      "3515                                   PED peace of shit﻿\n",
      "3516                                     Complete douche﻿\n",
      "3518                                        Ha ha douche﻿\n",
      "3565                                       fuck ya Eddie﻿\n",
      "3599              What dickhead give this a thumbs down?﻿\n",
      "3723                           What a cunt at the end...﻿\n",
      "3732    Conor: Fuck Diaz&#39;s team... and if you don&...\n",
      "3736                               Surprise dumb fucker!﻿\n",
      "3737                        Suprise suprise motherfucker﻿\n",
      "3746    fuck Connor and fuck Connor&#39;s fans bunch o...\n",
      "3749           Gilbert is a fucking bum lol. so annoying﻿\n",
      "3784                      conors fucken lame. and scared﻿\n",
      "3810                              Fuck the Diaz brothers﻿\n",
      "3825    Conor is such a little bitch. He&#39;s going t...\n",
      "3829    I hate this guy. Hes a huge mistake!Just like ...\n",
      "3912                                     Trudeau=A$$H0LE﻿\n",
      "Name: comment, dtype: object\n",
      "False Positives:\n",
      "================\n",
      "72                      He&#39;s fucking amazing !!!!!!!﻿\n",
      "197      i have Celiac&#39;s disease, this fucking sucks﻿\n",
      "221                     The modern era is a fucking joke﻿\n",
      "275                                  People are assholes﻿\n",
      "354                            whooooooooopie fucking do﻿\n",
      "435                                                  wtf﻿\n",
      "502                                 this is dope as fuck﻿\n",
      "766                                                  wtf﻿\n",
      "975                                     Reupload TMZ lol﻿\n",
      "1066    Cancerous fan base and retarded video meant fo...\n",
      "1105                                 she looks funny now﻿\n",
      "1159                      I fucked 1,000 bitches - Lil B﻿\n",
      "1166                                  stank pussy ass ho﻿\n",
      "1186    now I slandered a couple of heads on Superhead...\n",
      "1194                fuck. now I want to watch this again﻿\n",
      "1491     Feminism videos are cancer cancer cancer cancer﻿\n",
      "1513    What a sexist stereotypical video. I hate this...\n",
      "1533                           this is fucking hilarious﻿\n",
      "1544                            This is funny as fuck😂😂😂﻿\n",
      "1548    Men need to do chores! I am not a feminist! Fe...\n",
      "1647                                    sounds gay im in﻿\n",
      "1965                         All these jokes are so shit﻿\n",
      "1966                               Is that blood or shit﻿\n",
      "2008                              Is that shit or blood!﻿\n",
      "2018                        Shit happens hahahahahahahha﻿\n",
      "2270    why has amber rose got a show? talentless tras...\n",
      "2380    SHE IS DEMENTED .SHE HAS VASCULAR DEMENTIA =LO...\n",
      "2517    white men just wakes up from bed,carry a crue ...\n",
      "2574                      ahahah Scots ate fucking funny﻿\n",
      "2588                                            thts sad﻿\n",
      "2592      Dude that&#39;s fucking sad. Rip little angel.﻿\n",
      "2600                               Wtf the stepped on it﻿\n",
      "2640                               what the fuck is that﻿\n",
      "2654                                                 SAD﻿\n",
      "2660                                     Fucking bogging﻿\n",
      "2669                                            Well wtf﻿\n",
      "2748          He&#39;s such a dumbass 😐 how embarrassing﻿\n",
      "2760    Poor Al Roker, spending his time, speaking wit...\n",
      "2829                                                 Wtf﻿\n",
      "2901    what exactly is that stupid man talking about?...\n",
      "2924    Joy is a HOUSE NIGGA(see Samuel Jackson in Dja...\n",
      "3066                           our ozone layer is fucked﻿\n",
      "3118    iPhone 7 will fuck the shit out of that lagdro...\n",
      "3125    Apple rotten just saying. Samsung still the be...\n",
      "3201    Filmed sideways like a dumb retard from the Un...\n",
      "3241    Hahahah a dick just broke their TV !  Such a c...\n",
      "3268                 don&#39;t fuck with my dick bitch😂😂﻿\n",
      "3340            I watched up until he fucked with Ellen🖕﻿\n",
      "3381    The Vigilant Christian - His Life - New fuckin...\n",
      "3443    &#39;ll get through it, you haters go fuck you...\n",
      "3483    We WILL YOU STED FAT HEAD. NO ONE WANTS A CHEA...\n",
      "3492                      Roided to the fucking eyeballs﻿\n",
      "3669    Dude, you take up at least two positions on an...\n",
      "3752    Funny how all the people who were shit talking...\n",
      "3759    all you dumb bitches who said nate was going t...\n",
      "3778    diaz and his crew are like them bullies in sch...\n",
      "3800    Conor is fookin doomed... Diaz is in his head ...\n",
      "Name: comment, dtype: object\n",
      "False Negatives:\n",
      "================\n",
      "94           James cordens stylist 😂 fucking state of it﻿\n",
      "259                  kys college humor you&#39;re cancer﻿\n",
      "322                            FUCK YOU CHINA WE GOT 2ND﻿\n",
      "466     Dafaq is this shit? Its exactly the same as th...\n",
      "778           Why are you saying that your face is gross﻿\n",
      "922                               Man, she looks BAD!!!!﻿\n",
      "948     Wouldn&#39;t it be great if that yacht fell th...\n",
      "959              So fat and stiff looking, actual whelp.﻿\n",
      "1125    I swear niggaz on vlad are woman haters or jus...\n",
      "1135                    just came here to see the boobs😍﻿\n",
      "1146                I wanna bust my load down her throat﻿\n",
      "1289                             Nate has to be autistic﻿\n",
      "1538                       Is this supposed to be funny?﻿\n",
      "1725    I can&#39;t even stand the site of this asshol...\n",
      "1737    In the words of Red from That&#39;s 70&#39;s S...\n",
      "1743         Haha idiot. Can&#39;t take him seriously 😂😂﻿\n",
      "1757                                     White privilege﻿\n",
      "1761                                             So dumb﻿\n",
      "1769                                  it&#39;s sooo fake﻿\n",
      "1929                         Oh god this makes me cringe﻿\n",
      "1944    Why did you upload this shit! ( no pun intended)﻿\n",
      "1984    Why da fack is this in my trending I don&#39;t...\n",
      "2001      I dont think i have ever seen such a shit race﻿\n",
      "2155     &quot;Don&#39;t be a loser, Buy a defuser&quot;﻿\n",
      "2195    i feel bad for European countries letting thes...\n",
      "2239    Sluts are winning in this day n age. When did ...\n",
      "2251            I wonder what song Eminem fucked her to.﻿\n",
      "2300                                               Shame﻿\n",
      "2584                                           Your sick﻿\n",
      "2671         That baby is trending!!! Even when dead!!!!﻿\n",
      "2927               black lies matter...what a ride bitch﻿\n",
      "2972                               this video is a joke.﻿\n",
      "3018                                                 No.﻿\n",
      "3373    disliked before watching you fucking illuminat...\n",
      "3452                          guy looks like a zika baby﻿\n",
      "3503    Roid head.. Im not surprise if this dude die o...\n",
      "3724                           What a bellend maguire is﻿\n",
      "Name: comment, dtype: object\n"
     ]
    }
   ],
   "source": [
    "clf_labels = model.predict(data)\n",
    "print('True Positives:')\n",
    "print('================')\n",
    "print(data['comment'][(clf_labels==1) & (data.troll==1)])\n",
    "print('False Positives:')\n",
    "print('================')\n",
    "print(data['comment'][(clf_labels==1) & (data.troll==0)])\n",
    "print('False Negatives:')\n",
    "print('================')\n",
    "print(data['comment'][(clf_labels==0) & (data.troll==1)])"
   ]
  },
  {
   "cell_type": "markdown",
   "metadata": {},
   "source": [
    "### visualising the top 100 important features"
   ]
  },
  {
   "cell_type": "code",
   "execution_count": 30,
   "metadata": {
    "collapsed": false
   },
   "outputs": [],
   "source": [
    "coef_ = model.named_steps['logr'].coef_\n",
    "important = np.argsort(np.abs(coef_.ravel()))[-100:]\n",
    "feature_names = ft.get_feature_names()\n",
    "f_imp = feature_names[important]\n",
    "coef = coef_.ravel()[important]\n",
    "inds = np.argsort(coef)\n",
    "f_imp = f_imp[inds]\n",
    "coef = coef[inds]"
   ]
  },
  {
   "cell_type": "code",
   "execution_count": 31,
   "metadata": {
    "collapsed": false
   },
   "outputs": [
    {
     "data": {
      "image/png": "[encoded data removed]",
      "text/plain": [
       "<matplotlib.figure.Figure at 0xc3c3cf8>"
      ]
     },
     "metadata": {},
     "output_type": "display_data"
    }
   ],
   "source": [
    "fig = plt.figure(figsize=(15,3))\n",
    "ax = plt.gca()\n",
    "ax.plot(coef, 'o')\n",
    "ax.set_xticks(np.arange(len(coef)))\n",
    "labels = ax.set_xticklabels(f_imp)\n",
    "for label in labels:\n",
    "    label.set_rotation(90)"
   ]
  },
  {
   "cell_type": "markdown",
   "metadata": {},
   "source": [
    "# Questions/ comments\n",
    "* does it make sense to do variance based feature selection when dealing with imbalanced label sizes?\n",
    "* tf-idf vectorizer gives around 5500 words (columns) and that's more than the number of rows, and since most words are redundant anyway it is important to reduce the dimensionality of the problem\n",
    "* the fact that only 10% of the data is trolls means that maybe an anamoly detection approach would perform better, this is taken care of by giving the classifier the flag class_weight='balanced' that ensures a balanced sampling of the input data\n",
    "* use reg experssions to remove obvious things like links, etc\n",
    "* do setiment analysis as an extra feature\n",
    "* LogReg seems to perform better than RandForest, esp given the mismatch in label size\n",
    "* I dont quite agree with some of the labels, part of the problem might be the fact that the labeling is not done in a consistent way"
   ]
  },
  {
   "cell_type": "code",
   "execution_count": null,
   "metadata": {
    "collapsed": true
   },
   "outputs": [],
   "source": []
  }
 ],
 "metadata": {
  "anaconda-cloud": {},
  "kernelspec": {
   "display_name": "Python [default]",
   "language": "python",
   "name": "python3"
  },
  "language_info": {
   "codemirror_mode": {
    "name": "ipython",
    "version": 3
   },
   "file_extension": ".py",
   "mimetype": "text/x-python",
   "name": "python",
   "nbconvert_exporter": "python",
   "pygments_lexer": "ipython3",
   "version": "3.5.2"
  }
 },
 "nbformat": 4,
 "nbformat_minor": 1
}
