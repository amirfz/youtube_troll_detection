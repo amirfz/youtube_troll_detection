{
 "cells": [
  {
   "cell_type": "code",
   "execution_count": 1,
   "metadata": {
    "collapsed": false
   },
   "outputs": [],
   "source": [
    "import numpy as np\n",
    "import pandas as pd\n",
    "import matplotlib.pyplot as plt\n",
    "import nltk\n",
    "from nltk.corpus import stopwords\n",
    "from nltk.stem import PorterStemmer\n",
    "import re\n",
    "import seaborn as sns\n",
    "\n",
    "%matplotlib inline"
   ]
  },
  {
   "cell_type": "markdown",
   "metadata": {},
   "source": [
    "## read in the data"
   ]
  },
  {
   "cell_type": "code",
   "execution_count": 2,
   "metadata": {
    "collapsed": false
   },
   "outputs": [],
   "source": [
    "data = pd.read_csv('youtube-comments.csv')"
   ]
  },
  {
   "cell_type": "code",
   "execution_count": 3,
   "metadata": {
    "collapsed": false
   },
   "outputs": [
    {
     "data": {
      "text/html": [
       "<div>\n",
       "<table border=\"1\" class=\"dataframe\">\n",
       "  <thead>\n",
       "    <tr style=\"text-align: right;\">\n",
       "      <th></th>\n",
       "      <th>comment</th>\n",
       "      <th>troll</th>\n",
       "      <th>title</th>\n",
       "      <th>views</th>\n",
       "      <th>dislikes</th>\n",
       "      <th>commentCount</th>\n",
       "      <th>likes</th>\n",
       "      <th>replies</th>\n",
       "      <th>id</th>\n",
       "    </tr>\n",
       "  </thead>\n",
       "  <tbody>\n",
       "    <tr>\n",
       "      <th>0</th>\n",
       "      <td>What a lucky guy, got celebrated birthday on c...</td>\n",
       "      <td>0</td>\n",
       "      <td>Nothing Compares 2 U (Live in LA w/ James Corden)</td>\n",
       "      <td>469414</td>\n",
       "      <td>263</td>\n",
       "      <td>1123</td>\n",
       "      <td>19392</td>\n",
       "      <td>0</td>\n",
       "      <td>mak_Cu9Wl6w</td>\n",
       "    </tr>\n",
       "    <tr>\n",
       "      <th>1</th>\n",
       "      <td>Love it﻿</td>\n",
       "      <td>0</td>\n",
       "      <td>Nothing Compares 2 U (Live in LA w/ James Corden)</td>\n",
       "      <td>469414</td>\n",
       "      <td>263</td>\n",
       "      <td>1123</td>\n",
       "      <td>19392</td>\n",
       "      <td>0</td>\n",
       "      <td>mak_Cu9Wl6w</td>\n",
       "    </tr>\n",
       "    <tr>\n",
       "      <th>2</th>\n",
       "      <td>no americans even knew who corden was several ...</td>\n",
       "      <td>0</td>\n",
       "      <td>Nothing Compares 2 U (Live in LA w/ James Corden)</td>\n",
       "      <td>469414</td>\n",
       "      <td>263</td>\n",
       "      <td>1123</td>\n",
       "      <td>19392</td>\n",
       "      <td>0</td>\n",
       "      <td>mak_Cu9Wl6w</td>\n",
       "    </tr>\n",
       "    <tr>\n",
       "      <th>3</th>\n",
       "      <td>my birthday was the 22nd as well and we both s...</td>\n",
       "      <td>0</td>\n",
       "      <td>Nothing Compares 2 U (Live in LA w/ James Corden)</td>\n",
       "      <td>469414</td>\n",
       "      <td>263</td>\n",
       "      <td>1123</td>\n",
       "      <td>19392</td>\n",
       "      <td>0</td>\n",
       "      <td>mak_Cu9Wl6w</td>\n",
       "    </tr>\n",
       "    <tr>\n",
       "      <th>4</th>\n",
       "      <td>OMG IM CRYING﻿</td>\n",
       "      <td>0</td>\n",
       "      <td>Nothing Compares 2 U (Live in LA w/ James Corden)</td>\n",
       "      <td>469414</td>\n",
       "      <td>263</td>\n",
       "      <td>1123</td>\n",
       "      <td>19392</td>\n",
       "      <td>0</td>\n",
       "      <td>mak_Cu9Wl6w</td>\n",
       "    </tr>\n",
       "  </tbody>\n",
       "</table>\n",
       "</div>"
      ],
      "text/plain": [
       "                                             comment  troll  \\\n",
       "0  What a lucky guy, got celebrated birthday on c...      0   \n",
       "1                                           Love it﻿      0   \n",
       "2  no americans even knew who corden was several ...      0   \n",
       "3  my birthday was the 22nd as well and we both s...      0   \n",
       "4                                     OMG IM CRYING﻿      0   \n",
       "\n",
       "                                               title   views  dislikes  \\\n",
       "0  Nothing Compares 2 U (Live in LA w/ James Corden)  469414       263   \n",
       "1  Nothing Compares 2 U (Live in LA w/ James Corden)  469414       263   \n",
       "2  Nothing Compares 2 U (Live in LA w/ James Corden)  469414       263   \n",
       "3  Nothing Compares 2 U (Live in LA w/ James Corden)  469414       263   \n",
       "4  Nothing Compares 2 U (Live in LA w/ James Corden)  469414       263   \n",
       "\n",
       "   commentCount  likes  replies           id  \n",
       "0          1123  19392        0  mak_Cu9Wl6w  \n",
       "1          1123  19392        0  mak_Cu9Wl6w  \n",
       "2          1123  19392        0  mak_Cu9Wl6w  \n",
       "3          1123  19392        0  mak_Cu9Wl6w  \n",
       "4          1123  19392        0  mak_Cu9Wl6w  "
      ]
     },
     "execution_count": 3,
     "metadata": {},
     "output_type": "execute_result"
    }
   ],
   "source": [
    "data.head()"
   ]
  },
  {
   "cell_type": "markdown",
   "metadata": {},
   "source": [
    "## cleaning the text"
   ]
  },
  {
   "cell_type": "code",
   "execution_count": 4,
   "metadata": {
    "collapsed": true
   },
   "outputs": [],
   "source": [
    "def cleaner(text):\n",
    "    '''Function to clean the text data and prep for further analysis'''\n",
    "    stops = set(stopwords.words(\"english\"))     # Creating a set of Stopwords\n",
    "    p_stemmer = PorterStemmer()                 # Creating the stemmer model\n",
    "    text = re.sub(\"[^a-zA-Z]\",\" \",text)          # Removes punctuation\n",
    "    text = text.split()                          # Splits the data into individual words \n",
    "    text = [w for w in text if not w in stops]   # Removes stopwords\n",
    "    text = [p_stemmer.stem(i) for i in text]     # Stemming (reducing words to their root)\n",
    "    return ' '.join(text)"
   ]
  },
  {
   "cell_type": "code",
   "execution_count": 5,
   "metadata": {
    "collapsed": false
   },
   "outputs": [],
   "source": [
    "data['clean'] = data['comment'].apply(cleaner)"
   ]
  },
  {
   "cell_type": "code",
   "execution_count": 6,
   "metadata": {
    "collapsed": false
   },
   "outputs": [
    {
     "data": {
      "text/html": [
       "<div>\n",
       "<table border=\"1\" class=\"dataframe\">\n",
       "  <thead>\n",
       "    <tr style=\"text-align: right;\">\n",
       "      <th></th>\n",
       "      <th>comment</th>\n",
       "      <th>troll</th>\n",
       "      <th>title</th>\n",
       "      <th>views</th>\n",
       "      <th>dislikes</th>\n",
       "      <th>commentCount</th>\n",
       "      <th>likes</th>\n",
       "      <th>replies</th>\n",
       "      <th>id</th>\n",
       "      <th>clean</th>\n",
       "    </tr>\n",
       "  </thead>\n",
       "  <tbody>\n",
       "    <tr>\n",
       "      <th>0</th>\n",
       "      <td>What a lucky guy, got celebrated birthday on c...</td>\n",
       "      <td>0</td>\n",
       "      <td>Nothing Compares 2 U (Live in LA w/ James Corden)</td>\n",
       "      <td>469414</td>\n",
       "      <td>263</td>\n",
       "      <td>1123</td>\n",
       "      <td>19392</td>\n",
       "      <td>0</td>\n",
       "      <td>mak_Cu9Wl6w</td>\n",
       "      <td>What lucki guy got celebr birthday concert bil...</td>\n",
       "    </tr>\n",
       "    <tr>\n",
       "      <th>1</th>\n",
       "      <td>Love it﻿</td>\n",
       "      <td>0</td>\n",
       "      <td>Nothing Compares 2 U (Live in LA w/ James Corden)</td>\n",
       "      <td>469414</td>\n",
       "      <td>263</td>\n",
       "      <td>1123</td>\n",
       "      <td>19392</td>\n",
       "      <td>0</td>\n",
       "      <td>mak_Cu9Wl6w</td>\n",
       "      <td>Love</td>\n",
       "    </tr>\n",
       "    <tr>\n",
       "      <th>2</th>\n",
       "      <td>no americans even knew who corden was several ...</td>\n",
       "      <td>0</td>\n",
       "      <td>Nothing Compares 2 U (Live in LA w/ James Corden)</td>\n",
       "      <td>469414</td>\n",
       "      <td>263</td>\n",
       "      <td>1123</td>\n",
       "      <td>19392</td>\n",
       "      <td>0</td>\n",
       "      <td>mak_Cu9Wl6w</td>\n",
       "      <td>american even knew corden sever year ago</td>\n",
       "    </tr>\n",
       "    <tr>\n",
       "      <th>3</th>\n",
       "      <td>my birthday was the 22nd as well and we both s...</td>\n",
       "      <td>0</td>\n",
       "      <td>Nothing Compares 2 U (Live in LA w/ James Corden)</td>\n",
       "      <td>469414</td>\n",
       "      <td>263</td>\n",
       "      <td>1123</td>\n",
       "      <td>19392</td>\n",
       "      <td>0</td>\n",
       "      <td>mak_Cu9Wl6w</td>\n",
       "      <td>birthday nd well support west ham</td>\n",
       "    </tr>\n",
       "    <tr>\n",
       "      <th>4</th>\n",
       "      <td>OMG IM CRYING﻿</td>\n",
       "      <td>0</td>\n",
       "      <td>Nothing Compares 2 U (Live in LA w/ James Corden)</td>\n",
       "      <td>469414</td>\n",
       "      <td>263</td>\n",
       "      <td>1123</td>\n",
       "      <td>19392</td>\n",
       "      <td>0</td>\n",
       "      <td>mak_Cu9Wl6w</td>\n",
       "      <td>OMG IM CRi</td>\n",
       "    </tr>\n",
       "  </tbody>\n",
       "</table>\n",
       "</div>"
      ],
      "text/plain": [
       "                                             comment  troll  \\\n",
       "0  What a lucky guy, got celebrated birthday on c...      0   \n",
       "1                                           Love it﻿      0   \n",
       "2  no americans even knew who corden was several ...      0   \n",
       "3  my birthday was the 22nd as well and we both s...      0   \n",
       "4                                     OMG IM CRYING﻿      0   \n",
       "\n",
       "                                               title   views  dislikes  \\\n",
       "0  Nothing Compares 2 U (Live in LA w/ James Corden)  469414       263   \n",
       "1  Nothing Compares 2 U (Live in LA w/ James Corden)  469414       263   \n",
       "2  Nothing Compares 2 U (Live in LA w/ James Corden)  469414       263   \n",
       "3  Nothing Compares 2 U (Live in LA w/ James Corden)  469414       263   \n",
       "4  Nothing Compares 2 U (Live in LA w/ James Corden)  469414       263   \n",
       "\n",
       "   commentCount  likes  replies           id  \\\n",
       "0          1123  19392        0  mak_Cu9Wl6w   \n",
       "1          1123  19392        0  mak_Cu9Wl6w   \n",
       "2          1123  19392        0  mak_Cu9Wl6w   \n",
       "3          1123  19392        0  mak_Cu9Wl6w   \n",
       "4          1123  19392        0  mak_Cu9Wl6w   \n",
       "\n",
       "                                               clean  \n",
       "0  What lucki guy got celebr birthday concert bil...  \n",
       "1                                               Love  \n",
       "2           american even knew corden sever year ago  \n",
       "3                  birthday nd well support west ham  \n",
       "4                                         OMG IM CRi  "
      ]
     },
     "execution_count": 6,
     "metadata": {},
     "output_type": "execute_result"
    }
   ],
   "source": [
    "data.head()"
   ]
  },
  {
   "cell_type": "markdown",
   "metadata": {},
   "source": [
    "## using tf-idf to convert the clean comments to a matrix of freq's"
   ]
  },
  {
   "cell_type": "code",
   "execution_count": 7,
   "metadata": {
    "collapsed": false
   },
   "outputs": [],
   "source": [
    "from sklearn.feature_extraction.text import TfidfVectorizer\n",
    "from sklearn import preprocessing"
   ]
  },
  {
   "cell_type": "code",
   "execution_count": 8,
   "metadata": {
    "collapsed": false
   },
   "outputs": [],
   "source": [
    "vectorizer = TfidfVectorizer(sublinear_tf=True, max_df=0.5,\n",
    "                                 stop_words='english')\n",
    "X = vectorizer.fit_transform(data.clean)"
   ]
  },
  {
   "cell_type": "markdown",
   "metadata": {},
   "source": [
    "## creating labels"
   ]
  },
  {
   "cell_type": "code",
   "execution_count": 9,
   "metadata": {
    "collapsed": false
   },
   "outputs": [],
   "source": [
    "le = preprocessing.LabelEncoder()\n",
    "le.fit(data.troll.values)\n",
    "Y = le.transform(data.troll.values) "
   ]
  },
  {
   "cell_type": "markdown",
   "metadata": {},
   "source": [
    "## defining a classifier function"
   ]
  },
  {
   "cell_type": "code",
   "execution_count": 97,
   "metadata": {
    "collapsed": false
   },
   "outputs": [],
   "source": [
    "from sklearn.ensemble import RandomForestClassifier\n",
    "from sklearn.model_selection import train_test_split\n",
    "from sklearn.metrics import confusion_matrix\n",
    "\n",
    "def model_rfc(X, Y):\n",
    "    X_train, X_test, y_train, y_test = train_test_split(X, Y, train_size=.80)\n",
    "    clf = RandomForestClassifier(n_estimators=100)\n",
    "    clf.fit(X_train, y_train)\n",
    "    clf_probs = np.dot(clf.predict_proba(X_test)>0.5, np.array([0, 1]))\n",
    "    score = confusion_matrix(y_test, clf_probs)\n",
    "    print('confidence matrix:')\n",
    "    print(score)\n",
    "    plt.bar(range(X.shape[1]), clf.feature_importances_)\n",
    "    \n",
    "    return np.dot(clf.predict_proba(X)>0.5, np.array([0, 1]))"
   ]
  },
  {
   "cell_type": "markdown",
   "metadata": {},
   "source": [
    "## dimensionality reduction"
   ]
  },
  {
   "cell_type": "markdown",
   "metadata": {},
   "source": [
    "tf-idf vectorizer gives around 5500 words (columns) and that's more than the number of rows, and since most words are redundant anyway it is important to reduce the dimensionality of the problem"
   ]
  },
  {
   "cell_type": "markdown",
   "metadata": {},
   "source": [
    "### trying PCA"
   ]
  },
  {
   "cell_type": "code",
   "execution_count": 11,
   "metadata": {
    "collapsed": true
   },
   "outputs": [],
   "source": [
    "from sklearn import decomposition"
   ]
  },
  {
   "cell_type": "code",
   "execution_count": 12,
   "metadata": {
    "collapsed": false
   },
   "outputs": [
    {
     "name": "stdout",
     "output_type": "stream",
     "text": [
      "Wall time: 2.41 s\n"
     ]
    }
   ],
   "source": [
    "%%time\n",
    "\n",
    "pca = decomposition.PCA(n_components=100)\n",
    "pca.fit(X.toarray())\n",
    "#data_pca = pca.transform(X)"
   ]
  },
  {
   "cell_type": "code",
   "execution_count": 13,
   "metadata": {
    "collapsed": false
   },
   "outputs": [
    {
     "data": {
      "text/plain": [
       "[<matplotlib.lines.Line2D at 0xbd44cf8>]"
      ]
     },
     "execution_count": 13,
     "metadata": {},
     "output_type": "execute_result"
    },
    {
     "data": {
      "image/png": "[encoded data removed]",
      "text/plain": [
       "<matplotlib.figure.Figure at 0xba49550>"
      ]
     },
     "metadata": {},
     "output_type": "display_data"
    }
   ],
   "source": [
    "plt.plot(pca.explained_variance_ratio_)"
   ]
  },
  {
   "cell_type": "code",
   "execution_count": 14,
   "metadata": {
    "collapsed": false
   },
   "outputs": [
    {
     "name": "stdout",
     "output_type": "stream",
     "text": [
      "Wall time: 1.89 s\n"
     ]
    }
   ],
   "source": [
    "%%time\n",
    "\n",
    "pca = decomposition.PCA(n_components=20)\n",
    "pca.fit(X.toarray())\n",
    "X_pca = pca.transform(X.toarray())"
   ]
  },
  {
   "cell_type": "markdown",
   "metadata": {},
   "source": [
    "## classifying using the result of PCA"
   ]
  },
  {
   "cell_type": "code",
   "execution_count": 98,
   "metadata": {
    "collapsed": false
   },
   "outputs": [
    {
     "name": "stdout",
     "output_type": "stream",
     "text": [
      "confidence matrix:\n",
      "[[691  20]\n",
      " [ 56  20]]\n"
     ]
    },
    {
     "data": {
      "image/png": "[encoded data removed]",
      "text/plain": [
       "<matplotlib.figure.Figure at 0xc50ef98>"
      ]
     },
     "metadata": {},
     "output_type": "display_data"
    }
   ],
   "source": [
    "clf_probs = model_rfc(X_pca, Y)"
   ]
  },
  {
   "cell_type": "markdown",
   "metadata": {},
   "source": [
    "False positives"
   ]
  },
  {
   "cell_type": "code",
   "execution_count": 112,
   "metadata": {
    "collapsed": false
   },
   "outputs": [
    {
     "data": {
      "text/plain": [
       "72                      He&#39;s fucking amazing !!!!!!!﻿\n",
       "197      i have Celiac&#39;s disease, this fucking sucks﻿\n",
       "221                     The modern era is a fucking joke﻿\n",
       "269     So Murder and Theft are okay? Lets start the f...\n",
       "354                            whooooooooopie fucking do﻿\n",
       "435                                                  wtf﻿\n",
       "584     why does this shit keep getting recommended to...\n",
       "766                                                  wtf﻿\n",
       "1533                           this is fucking hilarious﻿\n",
       "1767                               he looks like zoom!!!﻿\n",
       "1931                                        What a shame﻿\n",
       "1973                                          Holy shit!﻿\n",
       "2320    What&#39;s wrong with imigrants ur fucking cou...\n",
       "2574                      ahahah Scots ate fucking funny﻿\n",
       "2622                             That&#39;s fucking rank﻿\n",
       "2640                               what the fuck is that﻿\n",
       "2644    AHAHA that&#39;s a wee baby mate this is funny...\n",
       "2660                                     Fucking bogging﻿\n",
       "2669                                            Well wtf﻿\n",
       "2815                                       fucking 10/10﻿\n",
       "2829                                                 Wtf﻿\n",
       "3066                           our ozone layer is fucked﻿\n",
       "3312    SUPPORT SALEM AT ALL COST! FUCK YOU IF YOU DIS...\n",
       "3457                   ARE YOU FUCKING KIDDING ME BROCK?﻿\n",
       "3778    diaz and his crew are like them bullies in sch...\n",
       "3822                 i want Mcgregor to fuck Diaz up lol﻿\n",
       "Name: comment, dtype: object"
      ]
     },
     "execution_count": 112,
     "metadata": {},
     "output_type": "execute_result"
    }
   ],
   "source": [
    "data['comment'][(clf_probs==1) & (data.troll==0)]"
   ]
  },
  {
   "cell_type": "markdown",
   "metadata": {},
   "source": [
    "False negatives"
   ]
  },
  {
   "cell_type": "code",
   "execution_count": 113,
   "metadata": {
    "collapsed": false
   },
   "outputs": [
    {
     "data": {
      "text/plain": [
       "94           James cordens stylist 😂 fucking state of it﻿\n",
       "229     6 months? ...fuck that. At least give people a...\n",
       "339     this nigga was the cause of my dad getting &qu...\n",
       "772     how is this on trending cause that is what mos...\n",
       "831                           dafuck is this. no just no﻿\n",
       "832     Miley completely and utterly destroyed a classic﻿\n",
       "836     They all suck they should take notes from Jaco...\n",
       "923     looks like shes shes still useing milk bleach ...\n",
       "948     Wouldn&#39;t it be great if that yacht fell th...\n",
       "951     wtf is this, why is this news... tmz is n cancer﻿\n",
       "959              So fat and stiff looking, actual whelp.﻿\n",
       "1104                                       yeah my nigga﻿\n",
       "1135                    just came here to see the boobs😍﻿\n",
       "1153    this bitch clearly lying through her teeth she...\n",
       "1171    Dang, Vlad stop interviewing this heffa. She n...\n",
       "1282                                                lame﻿\n",
       "1378                               Nate is piece of shit﻿\n",
       "1538                       Is this supposed to be funny?﻿\n",
       "1688                                Wtf did i just watch﻿\n",
       "1723    He is the worst of the worst and should never ...\n",
       "1725    I can&#39;t even stand the site of this asshol...\n",
       "1755                                                lyar﻿\n",
       "1805    hahahahahahahahhaahhahahahahhahahahahahhahahah...\n",
       "1807    Don&#39;t ldt him get away with it. White man ...\n",
       "1835                                   this is a new low﻿\n",
       "1875    The most stupid, nonsensical video I have seen...\n",
       "1913                                     Dirty scummers!﻿\n",
       "1929                         Oh god this makes me cringe﻿\n",
       "1941                                               sad x﻿\n",
       "1951                                  are you shiting me﻿\n",
       "                              ...                        \n",
       "2155     &quot;Don&#39;t be a loser, Buy a defuser&quot;﻿\n",
       "2244         this show is pathetic and so are the guests﻿\n",
       "2248    Oh look! Two people trying to be famous off of...\n",
       "2273                                     Lowlife scumbag﻿\n",
       "2423                               Bunch of Cum Buckets.﻿\n",
       "2584                                           Your sick﻿\n",
       "2587    Filmed sideways like a dumb retard from the Un...\n",
       "2609    you guys are FUCKING sick you deserve to die y...\n",
       "2639                &quot;Fucking stinks of shite &quot;﻿\n",
       "2666                                      Cruel bastards﻿\n",
       "2804    Those of you who are stupid to realize it: it&...\n",
       "2888                 It will attract a bunch of niggers.﻿\n",
       "2910    fuck the preacher s that believes in trump and...\n",
       "2918    thank you Pastor for going on this sell out ga...\n",
       "2920    did that house niggard just say black people a...\n",
       "3018                                                 No.﻿\n",
       "3077                 it stunk years ago and still stinks﻿\n",
       "3103    Steve Job was an asshoe and only asshoes buy a...\n",
       "3251                                      she is an dick﻿\n",
       "3366                        You&#39;re fucking dumb lmao﻿\n",
       "3373    disliked before watching you fucking illuminat...\n",
       "3400                              Trash video , Faggot !﻿\n",
       "3411    Who else clicked this just to laugh at how stu...\n",
       "3500    Fuck NO Lesnar UFC fight Fans Dont want you <b...\n",
       "3503    Roid head.. Im not surprise if this dude die o...\n",
       "3504    PATHETIC BASEMENT DWELLING VIRGINS DEFENDING H...\n",
       "3506                                             cheater﻿\n",
       "3516                                     Complete douche﻿\n",
       "3825    Conor is such a little bitch. He&#39;s going t...\n",
       "3912                                     Trudeau=A$$H0LE﻿\n",
       "Name: comment, dtype: object"
      ]
     },
     "execution_count": 113,
     "metadata": {},
     "output_type": "execute_result"
    }
   ],
   "source": [
    "data['comment'][(clf_probs==0) & (data.troll==1)]"
   ]
  },
  {
   "cell_type": "markdown",
   "metadata": {},
   "source": [
    "## creating new features based on the length of the comment etc"
   ]
  },
  {
   "cell_type": "code",
   "execution_count": 16,
   "metadata": {
    "collapsed": true
   },
   "outputs": [],
   "source": [
    "def bad_word_counter(text):\n",
    "    bad_words = pd.read_csv('google_badlist.txt', header=None).values\n",
    "    return len([w for w in text.split() if w in bad_words])"
   ]
  },
  {
   "cell_type": "code",
   "execution_count": 17,
   "metadata": {
    "collapsed": true
   },
   "outputs": [],
   "source": [
    "def transform(documents):\n",
    "    ## some handcrafted features!\n",
    "    n_words = [len(c.split()) for c in documents]\n",
    "    n_chars = [len(c) for c in documents]\n",
    "    # number of uppercase words\n",
    "    allcaps = [np.sum([w.isupper() for w in comment.split()])\n",
    "           for comment in documents]\n",
    "    # longest word\n",
    "    max_word_len = [np.max([len(w) for w in c.split()]) for c in documents]\n",
    "    # average word length\n",
    "    mean_word_len = [np.mean([len(w) for w in c.split()])\n",
    "                                        for c in documents]\n",
    "    # number of google badwords:\n",
    "    n_bad = [bad_word_counter(c) for c in documents]\n",
    "    exclamation = [c.count(\"!\") for c in documents]\n",
    "    addressing = [c.count(\"@\") for c in documents]\n",
    "    spaces = [c.count(\" \") for c in documents]\n",
    "\n",
    "    allcaps_ratio = np.array(allcaps) / np.array(n_words, dtype=np.float)\n",
    "    bad_ratio = np.array(n_bad) / np.array(n_words, dtype=np.float)\n",
    "\n",
    "    return np.array([n_words, n_chars, allcaps, max_word_len,\n",
    "        mean_word_len, exclamation, addressing, spaces,\n",
    "        allcaps_ratio, n_bad, bad_ratio]).T"
   ]
  },
  {
   "cell_type": "markdown",
   "metadata": {},
   "source": [
    "## classifying based on the features like the length of the comment etc"
   ]
  },
  {
   "cell_type": "code",
   "execution_count": 18,
   "metadata": {
    "collapsed": true
   },
   "outputs": [],
   "source": [
    "from sklearn.preprocessing import scale"
   ]
  },
  {
   "cell_type": "code",
   "execution_count": 114,
   "metadata": {
    "collapsed": false
   },
   "outputs": [
    {
     "name": "stdout",
     "output_type": "stream",
     "text": [
      "confidence matrix:\n",
      "[[683  29]\n",
      " [ 64  11]]\n"
     ]
    },
    {
     "data": {
      "image/png": "[encoded data removed]",
      "text/plain": [
       "<matplotlib.figure.Figure at 0xba0ba20>"
      ]
     },
     "metadata": {},
     "output_type": "display_data"
    }
   ],
   "source": [
    "X_ext = scale(transform(data.comment), with_mean=True, axis=0)\n",
    "clf_probs = model_rfc(X_ext, Y)"
   ]
  },
  {
   "cell_type": "markdown",
   "metadata": {},
   "source": [
    "False negatives"
   ]
  },
  {
   "cell_type": "code",
   "execution_count": 115,
   "metadata": {
    "collapsed": false
   },
   "outputs": [
    {
     "data": {
      "text/plain": [
       "84                                 What a bunch of cunts﻿\n",
       "94           James cordens stylist 😂 fucking state of it﻿\n",
       "257     Don&#39;t agree with the gluten free one. Fuck...\n",
       "307                                        cheating scum﻿\n",
       "308                                               nigger﻿\n",
       "331       was that good for a blackman chucking a spear?﻿\n",
       "380                                   Well that was shit﻿\n",
       "592     Why is this kind of stuff on YouTube. It&#39;s...\n",
       "703                                               Cancer﻿\n",
       "738                                    how is this funny﻿\n",
       "740                                     waste of my time﻿\n",
       "744                                 what the actual fuck﻿\n",
       "772     how is this on trending cause that is what mos...\n",
       "777                                           goofy fuck﻿\n",
       "778           Why are you saying that your face is gross﻿\n",
       "785                                          Wtf is this﻿\n",
       "831                           dafuck is this. no just no﻿\n",
       "832     Miley completely and utterly destroyed a classic﻿\n",
       "852                                               sucked﻿\n",
       "891                                   I wish she drowned﻿\n",
       "920                                     who gives a fuck﻿\n",
       "937       Shows like this are the cancer of the Internet﻿\n",
       "938                               she looks like a whale﻿\n",
       "940     this is news to you?  WHO THE FUCK CARES FOR T...\n",
       "942     Imagine being stuck in a room with all those c...\n",
       "944                             tmz are sycophantic scum﻿\n",
       "954     Why the fuck are you using feet, wtf is 30 ft ...\n",
       "958                                   she looks very fat﻿\n",
       "959              So fat and stiff looking, actual whelp.﻿\n",
       "962     What she said wasn&#39;t even funny and they w...\n",
       "                              ...                        \n",
       "2889                      Hitler killed the wrong people﻿\n",
       "2891                                                 Wtf﻿\n",
       "2972                               this video is a joke.﻿\n",
       "2990                           Joy Reid is an ugly shit.﻿\n",
       "3018                                                 No.﻿\n",
       "3025                                        This is gay.﻿\n",
       "3077                 it stunk years ago and still stinks﻿\n",
       "3103    Steve Job was an asshoe and only asshoes buy a...\n",
       "3251                                      she is an dick﻿\n",
       "3298                              I&#39;m fucking stoked﻿\n",
       "3357                                     Bull. Shit. lol﻿\n",
       "3365    Jesus fucking Christ you really need help. als...\n",
       "3366                        You&#39;re fucking dumb lmao﻿\n",
       "3386                                              retard﻿\n",
       "3411    Who else clicked this just to laugh at how stu...\n",
       "3427                                 Fucking Neanderthal﻿\n",
       "3428                     His head is like a bowling ball﻿\n",
       "3433                                     Fuck that pussy﻿\n",
       "3447                                 Fuck ugly sted head﻿\n",
       "3449                                 Cheating lying cunt﻿\n",
       "3451                                Definitely a cunt...﻿\n",
       "3458    Fuck off,your last fight was fucking awful,cir...\n",
       "3495             Fuck off you stupid fucking doping shit﻿\n",
       "3500    Fuck NO Lesnar UFC fight Fans Dont want you <b...\n",
       "3506                                             cheater﻿\n",
       "3515                                   PED peace of shit﻿\n",
       "3736                               Surprise dumb fucker!﻿\n",
       "3749           Gilbert is a fucking bum lol. so annoying﻿\n",
       "3784                      conors fucken lame. and scared﻿\n",
       "3810                              Fuck the Diaz brothers﻿\n",
       "Name: comment, dtype: object"
      ]
     },
     "execution_count": 115,
     "metadata": {},
     "output_type": "execute_result"
    }
   ],
   "source": [
    "data['comment'][(clf_probs==0) & (data.troll==1)]"
   ]
  },
  {
   "cell_type": "markdown",
   "metadata": {},
   "source": [
    "False positives"
   ]
  },
  {
   "cell_type": "code",
   "execution_count": 116,
   "metadata": {
    "collapsed": false
   },
   "outputs": [
    {
     "data": {
      "text/plain": [
       "3       my birthday was the 22nd as well and we both s...\n",
       "24                           Guy is so fucking hot &lt;3﻿\n",
       "38                              I WAS THERE AT THAT TIME﻿\n",
       "118                      That green looked damn good tho﻿\n",
       "221                     The modern era is a fucking joke﻿\n",
       "303          Did anyone actually care about the olypics?﻿\n",
       "360     how the hell does he expect to catch his food ...\n",
       "395     Ohohohoho Taken reversed and holy hell it look...\n",
       "404                                              Jason!!﻿\n",
       "414                           This movie looks terrible.﻿\n",
       "621                        Aww this gave me such fuzzies﻿\n",
       "884                          never can beat the original﻿\n",
       "985                                        Beyonce queen﻿\n",
       "1206    This scene was pretty damn dank but why is it ...\n",
       "1225                                    Trending anyone?﻿\n",
       "1305                                     Excuses excuses﻿\n",
       "1376    dude is straight smoking weed in the interview...\n",
       "1549            love this couple lmao, very funny indeed﻿\n",
       "1592                             this is bloody awesome!﻿\n",
       "1702                          what&#39;s it really about﻿\n",
       "1845    when a fucking penguin is doing better at life...\n",
       "1964                          Too much fartlek training.﻿\n",
       "2534                Conclusion pie provide svyqie throw.﻿\n",
       "2558    I fucking love this song. If only it were longer﻿\n",
       "2559                                   fucking love this﻿\n",
       "2660                                     Fucking bogging﻿\n",
       "2815                                       fucking 10/10﻿\n",
       "2819                                   PLEASE SELL TO ME﻿\n",
       "2971    These two nitpicking politically correct cunts...\n",
       "3213                                     &#39;women&#39;﻿\n",
       "3421    Videos like these is why nobody takes YouTube ...\n",
       "3476                          He looks like my right toe﻿\n",
       "3605    God bless you Eddie Vedder. You are a class ac...\n",
       "3739                          connor won the turd round.﻿\n",
       "3801     C&#39;mon diaz, beat that motherfucker again!!!﻿\n",
       "3855            This guy never worked a day in his life.﻿\n",
       "3856                           Legalize the weed already﻿\n",
       "3858                                      look a pothead﻿\n",
       "Name: comment, dtype: object"
      ]
     },
     "execution_count": 116,
     "metadata": {},
     "output_type": "execute_result"
    }
   ],
   "source": [
    "data['comment'][(clf_probs==1) & (data.troll==0)]"
   ]
  },
  {
   "cell_type": "markdown",
   "metadata": {},
   "source": [
    "## classifying based on generated features"
   ]
  },
  {
   "cell_type": "code",
   "execution_count": 79,
   "metadata": {
    "collapsed": false
   },
   "outputs": [
    {
     "data": {
      "text/plain": [
       "array([ -1.07281736e-17,   6.20819399e-18,   4.32292209e-18,\n",
       "         9.63576071e-19,  -4.55921479e-18,  -4.58346124e-18,\n",
       "        -1.93777650e-17,  -5.14910618e-18,  -8.11154052e-18,\n",
       "         1.91998842e-18,   3.12459627e-18,   8.89613369e-18,\n",
       "        -3.73437251e-17,  -4.44084801e-18,  -7.21089502e-18,\n",
       "        -9.24010268e-19,   6.04640402e-18,   4.07891460e-18,\n",
       "        -1.06100273e-18,  -6.77974901e-18,   1.42706480e+01,\n",
       "         8.15804320e+01,   7.73824651e-01,   1.09529860e+01,\n",
       "         5.13713604e+00,   4.73951715e-01,   2.28716645e-03,\n",
       "         1.37062262e+01,   6.74682535e-02,   1.24777637e-01,\n",
       "         1.12531335e-02])"
      ]
     },
     "execution_count": 79,
     "metadata": {},
     "output_type": "execute_result"
    }
   ],
   "source": [
    "np.concatenate((X_pca, transform(data.comment)),axis=1).mean(axis=0)"
   ]
  },
  {
   "cell_type": "code",
   "execution_count": 117,
   "metadata": {
    "collapsed": false
   },
   "outputs": [
    {
     "name": "stdout",
     "output_type": "stream",
     "text": [
      "confidence matrix:\n",
      "[[700  14]\n",
      " [ 57  16]]\n"
     ]
    },
    {
     "data": {
      "image/png": "[encoded data removed]",
      "text/plain": [
       "<matplotlib.figure.Figure at 0xc513be0>"
      ]
     },
     "metadata": {},
     "output_type": "display_data"
    }
   ],
   "source": [
    "clf_probs = model_rfc(np.concatenate((X_pca, transform(data.comment)), axis=1), Y)"
   ]
  },
  {
   "cell_type": "markdown",
   "metadata": {},
   "source": [
    "False positives"
   ]
  },
  {
   "cell_type": "code",
   "execution_count": 118,
   "metadata": {
    "collapsed": false
   },
   "outputs": [
    {
     "data": {
      "text/plain": [
       "72                      He&#39;s fucking amazing !!!!!!!﻿\n",
       "197      i have Celiac&#39;s disease, this fucking sucks﻿\n",
       "995     I thought this would be some next &quot; how t...\n",
       "1166                                  stank pussy ass ho﻿\n",
       "1287    this dude always complaining tho diaz fan for ...\n",
       "1848    Those guards are probably thinking &quot;what ...\n",
       "2210      Religion in general just needs to fucking stop﻿\n",
       "2574                      ahahah Scots ate fucking funny﻿\n",
       "2670    &quot;Stinks o fucking shite&quot;. Quote of t...\n",
       "2913    tell me this how do u get in the bed with devi...\n",
       "3118    iPhone 7 will fuck the shit out of that lagdro...\n",
       "3234                     Fuck what? your TV? oh alright~﻿\n",
       "3331    oh my god, he&#39;s so EVIL! fucking kill your...\n",
       "3457                   ARE YOU FUCKING KIDDING ME BROCK?﻿\n",
       "Name: comment, dtype: object"
      ]
     },
     "execution_count": 118,
     "metadata": {},
     "output_type": "execute_result"
    }
   ],
   "source": [
    "data['comment'][(clf_probs==1) & (data.troll==0)]"
   ]
  },
  {
   "cell_type": "markdown",
   "metadata": {},
   "source": [
    "False negatives"
   ]
  },
  {
   "cell_type": "code",
   "execution_count": 119,
   "metadata": {
    "collapsed": false
   },
   "outputs": [
    {
     "data": {
      "text/plain": [
       "84                                 What a bunch of cunts﻿\n",
       "259                  kys college humor you&#39;re cancer﻿\n",
       "307                                        cheating scum﻿\n",
       "308                                               nigger﻿\n",
       "339     this nigga was the cause of my dad getting &qu...\n",
       "772     how is this on trending cause that is what mos...\n",
       "895     I hope that bitch drowns, that black lives mat...\n",
       "935                           everyone at t mz are cunts﻿\n",
       "937       Shows like this are the cancer of the Internet﻿\n",
       "942     Imagine being stuck in a room with all those c...\n",
       "948     Wouldn&#39;t it be great if that yacht fell th...\n",
       "956     Milking the fuck outta videos!! They just keep...\n",
       "958                                   she looks very fat﻿\n",
       "967                                               fat af﻿\n",
       "1092                            WHO IS THIS BITCH ?! =))﻿\n",
       "1094                CERTIFIED HOE. HOLD THIS L FOR LIFE.﻿\n",
       "1104                                       yeah my nigga﻿\n",
       "1143    Bruh. I&#39;m so glad I&#39;m still a virgin l...\n",
       "1165                               who the fuck is this?﻿\n",
       "1170    She got the biggest hands I&#39;ve ever seen, ...\n",
       "1321              funking pussy.. drop down to 145 pussy﻿\n",
       "1338    all diaz haters eat fat shit with a dick on to...\n",
       "1378                               Nate is piece of shit﻿\n",
       "1723    He is the worst of the worst and should never ...\n",
       "1738    Now it&#39;s the perfect time for that dumb-as...\n",
       "1755                                                lyar﻿\n",
       "1766    &quot;I am not a smart man...&quot;<br />-Fore...\n",
       "1769                                  it&#39;s sooo fake﻿\n",
       "1875    The most stupid, nonsensical video I have seen...\n",
       "1929                         Oh god this makes me cringe﻿\n",
       "1941                                               sad x﻿\n",
       "1957    Has he shit himself? It looks like curry sauce...\n",
       "2016                                                 Wtf﻿\n",
       "2037                                   VEVO shit !!!!!!!﻿\n",
       "2166    You had one job kid. Now you gotta do Allahu A...\n",
       "2185                ENGLISH MOTHERFUCKA DO YOU SPEAK IT!﻿\n",
       "2254                       hope this fool dies real soon﻿\n",
       "2255    Why has Amber rose got a show? Also why is thi...\n",
       "2256                                               Trash﻿\n",
       "2299                          looks and acts like a fool﻿\n",
       "2303                                   He&#39;s so gross﻿\n",
       "2529                                  Lol crazy negroids﻿\n",
       "2599    Bet half the cunts watchin that don&#39;t unde...\n",
       "2602    This is so fucked up, why would you film verti...\n",
       "2671         That baby is trending!!! Even when dead!!!!﻿\n",
       "2804    Those of you who are stupid to realize it: it&...\n",
       "2851                            Now skin cancer is fun!~﻿\n",
       "2891                                                 Wtf﻿\n",
       "2918    thank you Pastor for going on this sell out ga...\n",
       "2979    THAT IS THE CLASSIC ugly black bitch democrat ...\n",
       "3018                                                 No.﻿\n",
       "3251                                      she is an dick﻿\n",
       "3390                              yer off ya fuckin head﻿\n",
       "3396                                         Bullshit!!!﻿\n",
       "3428                     His head is like a bowling ball﻿\n",
       "3471                                    Cheating scumbag﻿\n",
       "3488                  put more roids in your ass cheater﻿\n",
       "3503    Roid head.. Im not surprise if this dude die o...\n",
       "3515                                   PED peace of shit﻿\n",
       "3912                                     Trudeau=A$$H0LE﻿\n",
       "Name: comment, dtype: object"
      ]
     },
     "execution_count": 119,
     "metadata": {},
     "output_type": "execute_result"
    }
   ],
   "source": [
    "data['comment'][(clf_probs==0) & (data.troll==1)]"
   ]
  },
  {
   "cell_type": "markdown",
   "metadata": {},
   "source": [
    "## visualizing some of the features"
   ]
  },
  {
   "cell_type": "code",
   "execution_count": 21,
   "metadata": {
    "collapsed": false
   },
   "outputs": [
    {
     "data": {
      "text/plain": [
       "<matplotlib.collections.PathCollection at 0xc24bf98>"
      ]
     },
     "execution_count": 21,
     "metadata": {},
     "output_type": "execute_result"
    },
    {
     "data": {
      "image/png": "[encoded data removed]",
      "text/plain": [
       "<matplotlib.figure.Figure at 0xc1f7a90>"
      ]
     },
     "metadata": {},
     "output_type": "display_data"
    }
   ],
   "source": [
    "colors = ['r', 'b']\n",
    "label_colors = [colors[lab] for lab in data.troll.values]\n",
    "\n",
    "plt.scatter(X_ext[:,-1], X_ext[:,-2], \n",
    "            s=10,\n",
    "            lw=0.1,\n",
    "            c=label_colors,\n",
    "            alpha=0.3)"
   ]
  },
  {
   "cell_type": "code",
   "execution_count": 22,
   "metadata": {
    "collapsed": false
   },
   "outputs": [
    {
     "data": {
      "image/png": "[encoded data removed]",
      "text/plain": [
       "<matplotlib.figure.Figure at 0xc1ffd30>"
      ]
     },
     "metadata": {},
     "output_type": "display_data"
    }
   ],
   "source": [
    "a = plt.hist(X_ext[:,-1], bins=100)"
   ]
  },
  {
   "cell_type": "markdown",
   "metadata": {},
   "source": [
    "the fact that only 10% of the data is trolls means that maybe an anamoly detection approach would perform better"
   ]
  },
  {
   "cell_type": "markdown",
   "metadata": {},
   "source": [
    "## using isolation forest"
   ]
  },
  {
   "cell_type": "code",
   "execution_count": 51,
   "metadata": {
    "collapsed": false
   },
   "outputs": [],
   "source": [
    "from sklearn.ensemble import IsolationForest\n",
    "\n",
    "def model_ifc(X, Y):\n",
    "    X_train, X_test, y_train, y_test = train_test_split(X, Y, train_size=.80)\n",
    "    clf = IsolationForest(n_estimators=100)\n",
    "    clf.fit(X_train, y_train)\n",
    "    clf_probs = clf.predict(X_test) < 0\n",
    "    score = confusion_matrix(y_test, clf_probs)\n",
    "    print(score)"
   ]
  },
  {
   "cell_type": "code",
   "execution_count": 52,
   "metadata": {
    "collapsed": false
   },
   "outputs": [
    {
     "name": "stdout",
     "output_type": "stream",
     "text": [
      "[[643  65]\n",
      " [ 74   5]]\n"
     ]
    }
   ],
   "source": [
    "model_ifc(X_pca, Y)"
   ]
  },
  {
   "cell_type": "code",
   "execution_count": null,
   "metadata": {
    "collapsed": true
   },
   "outputs": [],
   "source": []
  }
 ],
 "metadata": {
  "anaconda-cloud": {},
  "kernelspec": {
   "display_name": "Python [default]",
   "language": "python",
   "name": "python3"
  },
  "language_info": {
   "codemirror_mode": {
    "name": "ipython",
    "version": 3
   },
   "file_extension": ".py",
   "mimetype": "text/x-python",
   "name": "python",
   "nbconvert_exporter": "python",
   "pygments_lexer": "ipython3",
   "version": "3.5.2"
  }
 },
 "nbformat": 4,
 "nbformat_minor": 1
}
