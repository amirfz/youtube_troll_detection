{
 "cells": [
  {
   "cell_type": "code",
   "execution_count": 1,
   "metadata": {
    "collapsed": false
   },
   "outputs": [],
   "source": [
    "import numpy as np\n",
    "import pandas as pd\n",
    "import matplotlib.pyplot as plt\n",
    "import nltk\n",
    "from nltk.corpus import stopwords\n",
    "from nltk.stem import PorterStemmer\n",
    "import re\n",
    "\n",
    "%matplotlib inline"
   ]
  },
  {
   "cell_type": "code",
   "execution_count": 2,
   "metadata": {
    "collapsed": false
   },
   "outputs": [],
   "source": [
    "data = pd.read_csv('youtube-comments.csv')"
   ]
  },
  {
   "cell_type": "code",
   "execution_count": 3,
   "metadata": {
    "collapsed": false
   },
   "outputs": [
    {
     "data": {
      "text/html": [
       "<div>\n",
       "<table border=\"1\" class=\"dataframe\">\n",
       "  <thead>\n",
       "    <tr style=\"text-align: right;\">\n",
       "      <th></th>\n",
       "      <th>comment</th>\n",
       "      <th>troll</th>\n",
       "      <th>title</th>\n",
       "      <th>views</th>\n",
       "      <th>dislikes</th>\n",
       "      <th>commentCount</th>\n",
       "      <th>likes</th>\n",
       "      <th>replies</th>\n",
       "      <th>id</th>\n",
       "    </tr>\n",
       "  </thead>\n",
       "  <tbody>\n",
       "    <tr>\n",
       "      <th>0</th>\n",
       "      <td>What a lucky guy, got celebrated birthday on c...</td>\n",
       "      <td>0</td>\n",
       "      <td>Nothing Compares 2 U (Live in LA w/ James Corden)</td>\n",
       "      <td>469414</td>\n",
       "      <td>263</td>\n",
       "      <td>1123</td>\n",
       "      <td>19392</td>\n",
       "      <td>0</td>\n",
       "      <td>mak_Cu9Wl6w</td>\n",
       "    </tr>\n",
       "    <tr>\n",
       "      <th>1</th>\n",
       "      <td>Love it﻿</td>\n",
       "      <td>0</td>\n",
       "      <td>Nothing Compares 2 U (Live in LA w/ James Corden)</td>\n",
       "      <td>469414</td>\n",
       "      <td>263</td>\n",
       "      <td>1123</td>\n",
       "      <td>19392</td>\n",
       "      <td>0</td>\n",
       "      <td>mak_Cu9Wl6w</td>\n",
       "    </tr>\n",
       "    <tr>\n",
       "      <th>2</th>\n",
       "      <td>no americans even knew who corden was several ...</td>\n",
       "      <td>0</td>\n",
       "      <td>Nothing Compares 2 U (Live in LA w/ James Corden)</td>\n",
       "      <td>469414</td>\n",
       "      <td>263</td>\n",
       "      <td>1123</td>\n",
       "      <td>19392</td>\n",
       "      <td>0</td>\n",
       "      <td>mak_Cu9Wl6w</td>\n",
       "    </tr>\n",
       "    <tr>\n",
       "      <th>3</th>\n",
       "      <td>my birthday was the 22nd as well and we both s...</td>\n",
       "      <td>0</td>\n",
       "      <td>Nothing Compares 2 U (Live in LA w/ James Corden)</td>\n",
       "      <td>469414</td>\n",
       "      <td>263</td>\n",
       "      <td>1123</td>\n",
       "      <td>19392</td>\n",
       "      <td>0</td>\n",
       "      <td>mak_Cu9Wl6w</td>\n",
       "    </tr>\n",
       "    <tr>\n",
       "      <th>4</th>\n",
       "      <td>OMG IM CRYING﻿</td>\n",
       "      <td>0</td>\n",
       "      <td>Nothing Compares 2 U (Live in LA w/ James Corden)</td>\n",
       "      <td>469414</td>\n",
       "      <td>263</td>\n",
       "      <td>1123</td>\n",
       "      <td>19392</td>\n",
       "      <td>0</td>\n",
       "      <td>mak_Cu9Wl6w</td>\n",
       "    </tr>\n",
       "  </tbody>\n",
       "</table>\n",
       "</div>"
      ],
      "text/plain": [
       "                                             comment  troll  \\\n",
       "0  What a lucky guy, got celebrated birthday on c...      0   \n",
       "1                                           Love it﻿      0   \n",
       "2  no americans even knew who corden was several ...      0   \n",
       "3  my birthday was the 22nd as well and we both s...      0   \n",
       "4                                     OMG IM CRYING﻿      0   \n",
       "\n",
       "                                               title   views  dislikes  \\\n",
       "0  Nothing Compares 2 U (Live in LA w/ James Corden)  469414       263   \n",
       "1  Nothing Compares 2 U (Live in LA w/ James Corden)  469414       263   \n",
       "2  Nothing Compares 2 U (Live in LA w/ James Corden)  469414       263   \n",
       "3  Nothing Compares 2 U (Live in LA w/ James Corden)  469414       263   \n",
       "4  Nothing Compares 2 U (Live in LA w/ James Corden)  469414       263   \n",
       "\n",
       "   commentCount  likes  replies           id  \n",
       "0          1123  19392        0  mak_Cu9Wl6w  \n",
       "1          1123  19392        0  mak_Cu9Wl6w  \n",
       "2          1123  19392        0  mak_Cu9Wl6w  \n",
       "3          1123  19392        0  mak_Cu9Wl6w  \n",
       "4          1123  19392        0  mak_Cu9Wl6w  "
      ]
     },
     "execution_count": 3,
     "metadata": {},
     "output_type": "execute_result"
    }
   ],
   "source": [
    "data.head()"
   ]
  },
  {
   "cell_type": "code",
   "execution_count": 4,
   "metadata": {
    "collapsed": true
   },
   "outputs": [],
   "source": [
    "def cleaner(text):\n",
    "    '''Function to clean the text data and prep for further analysis'''\n",
    "    stops = set(stopwords.words(\"english\"))     # Creating a set of Stopwords\n",
    "    p_stemmer = PorterStemmer()                 # Creating the stemmer model\n",
    "    text = re.sub(\"[^a-zA-Z]\",\" \",text)          # Removes punctuation\n",
    "    text = text.split()                          # Splits the data into individual words \n",
    "    text = [w for w in text if not w in stops]   # Removes stopwords\n",
    "    text = [p_stemmer.stem(i) for i in text]     # Stemming (reducing words to their root)\n",
    "    return ' '.join(text)"
   ]
  },
  {
   "cell_type": "code",
   "execution_count": 5,
   "metadata": {
    "collapsed": false
   },
   "outputs": [],
   "source": [
    "data['clean'] = data['comment'].apply(cleaner)"
   ]
  },
  {
   "cell_type": "code",
   "execution_count": 6,
   "metadata": {
    "collapsed": false
   },
   "outputs": [
    {
     "data": {
      "text/html": [
       "<div>\n",
       "<table border=\"1\" class=\"dataframe\">\n",
       "  <thead>\n",
       "    <tr style=\"text-align: right;\">\n",
       "      <th></th>\n",
       "      <th>comment</th>\n",
       "      <th>troll</th>\n",
       "      <th>title</th>\n",
       "      <th>views</th>\n",
       "      <th>dislikes</th>\n",
       "      <th>commentCount</th>\n",
       "      <th>likes</th>\n",
       "      <th>replies</th>\n",
       "      <th>id</th>\n",
       "      <th>clean</th>\n",
       "    </tr>\n",
       "  </thead>\n",
       "  <tbody>\n",
       "    <tr>\n",
       "      <th>0</th>\n",
       "      <td>What a lucky guy, got celebrated birthday on c...</td>\n",
       "      <td>0</td>\n",
       "      <td>Nothing Compares 2 U (Live in LA w/ James Corden)</td>\n",
       "      <td>469414</td>\n",
       "      <td>263</td>\n",
       "      <td>1123</td>\n",
       "      <td>19392</td>\n",
       "      <td>0</td>\n",
       "      <td>mak_Cu9Wl6w</td>\n",
       "      <td>What lucki guy got celebr birthday concert bil...</td>\n",
       "    </tr>\n",
       "    <tr>\n",
       "      <th>1</th>\n",
       "      <td>Love it﻿</td>\n",
       "      <td>0</td>\n",
       "      <td>Nothing Compares 2 U (Live in LA w/ James Corden)</td>\n",
       "      <td>469414</td>\n",
       "      <td>263</td>\n",
       "      <td>1123</td>\n",
       "      <td>19392</td>\n",
       "      <td>0</td>\n",
       "      <td>mak_Cu9Wl6w</td>\n",
       "      <td>Love</td>\n",
       "    </tr>\n",
       "    <tr>\n",
       "      <th>2</th>\n",
       "      <td>no americans even knew who corden was several ...</td>\n",
       "      <td>0</td>\n",
       "      <td>Nothing Compares 2 U (Live in LA w/ James Corden)</td>\n",
       "      <td>469414</td>\n",
       "      <td>263</td>\n",
       "      <td>1123</td>\n",
       "      <td>19392</td>\n",
       "      <td>0</td>\n",
       "      <td>mak_Cu9Wl6w</td>\n",
       "      <td>american even knew corden sever year ago</td>\n",
       "    </tr>\n",
       "    <tr>\n",
       "      <th>3</th>\n",
       "      <td>my birthday was the 22nd as well and we both s...</td>\n",
       "      <td>0</td>\n",
       "      <td>Nothing Compares 2 U (Live in LA w/ James Corden)</td>\n",
       "      <td>469414</td>\n",
       "      <td>263</td>\n",
       "      <td>1123</td>\n",
       "      <td>19392</td>\n",
       "      <td>0</td>\n",
       "      <td>mak_Cu9Wl6w</td>\n",
       "      <td>birthday nd well support west ham</td>\n",
       "    </tr>\n",
       "    <tr>\n",
       "      <th>4</th>\n",
       "      <td>OMG IM CRYING﻿</td>\n",
       "      <td>0</td>\n",
       "      <td>Nothing Compares 2 U (Live in LA w/ James Corden)</td>\n",
       "      <td>469414</td>\n",
       "      <td>263</td>\n",
       "      <td>1123</td>\n",
       "      <td>19392</td>\n",
       "      <td>0</td>\n",
       "      <td>mak_Cu9Wl6w</td>\n",
       "      <td>OMG IM CRi</td>\n",
       "    </tr>\n",
       "  </tbody>\n",
       "</table>\n",
       "</div>"
      ],
      "text/plain": [
       "                                             comment  troll  \\\n",
       "0  What a lucky guy, got celebrated birthday on c...      0   \n",
       "1                                           Love it﻿      0   \n",
       "2  no americans even knew who corden was several ...      0   \n",
       "3  my birthday was the 22nd as well and we both s...      0   \n",
       "4                                     OMG IM CRYING﻿      0   \n",
       "\n",
       "                                               title   views  dislikes  \\\n",
       "0  Nothing Compares 2 U (Live in LA w/ James Corden)  469414       263   \n",
       "1  Nothing Compares 2 U (Live in LA w/ James Corden)  469414       263   \n",
       "2  Nothing Compares 2 U (Live in LA w/ James Corden)  469414       263   \n",
       "3  Nothing Compares 2 U (Live in LA w/ James Corden)  469414       263   \n",
       "4  Nothing Compares 2 U (Live in LA w/ James Corden)  469414       263   \n",
       "\n",
       "   commentCount  likes  replies           id  \\\n",
       "0          1123  19392        0  mak_Cu9Wl6w   \n",
       "1          1123  19392        0  mak_Cu9Wl6w   \n",
       "2          1123  19392        0  mak_Cu9Wl6w   \n",
       "3          1123  19392        0  mak_Cu9Wl6w   \n",
       "4          1123  19392        0  mak_Cu9Wl6w   \n",
       "\n",
       "                                               clean  \n",
       "0  What lucki guy got celebr birthday concert bil...  \n",
       "1                                               Love  \n",
       "2           american even knew corden sever year ago  \n",
       "3                  birthday nd well support west ham  \n",
       "4                                         OMG IM CRi  "
      ]
     },
     "execution_count": 6,
     "metadata": {},
     "output_type": "execute_result"
    }
   ],
   "source": [
    "data.head()"
   ]
  },
  {
   "cell_type": "code",
   "execution_count": 7,
   "metadata": {
    "collapsed": false
   },
   "outputs": [],
   "source": [
    "from sklearn.feature_extraction.text import TfidfVectorizer\n",
    "from sklearn import preprocessing"
   ]
  },
  {
   "cell_type": "code",
   "execution_count": 8,
   "metadata": {
    "collapsed": false
   },
   "outputs": [],
   "source": [
    "vectorizer = TfidfVectorizer(sublinear_tf=True, max_df=0.5,\n",
    "                                 stop_words='english')\n",
    "X = vectorizer.fit_transform(data.clean)"
   ]
  },
  {
   "cell_type": "code",
   "execution_count": 9,
   "metadata": {
    "collapsed": false
   },
   "outputs": [],
   "source": [
    "le = preprocessing.LabelEncoder()\n",
    "le.fit(data.troll.values)\n",
    "Y = le.transform(data.troll.values) "
   ]
  },
  {
   "cell_type": "code",
   "execution_count": 27,
   "metadata": {
    "collapsed": false
   },
   "outputs": [],
   "source": [
    "from sklearn.ensemble import RandomForestClassifier\n",
    "from sklearn.cross_validation import train_test_split\n",
    "from sklearn.metrics import log_loss\n",
    "\n",
    "def model_rfc(X, Y):\n",
    "    X_train, X_test, y_train, y_test = train_test_split(X, Y, train_size=.80)\n",
    "    clf = RandomForestClassifier(n_estimators=30)\n",
    "    clf.fit(X_train, y_train)\n",
    "    clf_probs = clf.predict_proba(X_test)\n",
    "    score = log_loss(y_test, clf_probs)\n",
    "    print(score)\n",
    "    plt.bar(range(X.shape[1]), clf.feature_importances_)"
   ]
  },
  {
   "cell_type": "code",
   "execution_count": 10,
   "metadata": {
    "collapsed": true
   },
   "outputs": [],
   "source": [
    "from sklearn import decomposition"
   ]
  },
  {
   "cell_type": "code",
   "execution_count": 11,
   "metadata": {
    "collapsed": false
   },
   "outputs": [
    {
     "name": "stdout",
     "output_type": "stream",
     "text": [
      "Wall time: 58.7 s\n"
     ]
    }
   ],
   "source": [
    "%%time\n",
    "\n",
    "pca = decomposition.PCA(n_components=100)\n",
    "pca.fit(X.toarray())\n",
    "#data_pca = pca.transform(X)"
   ]
  },
  {
   "cell_type": "code",
   "execution_count": 12,
   "metadata": {
    "collapsed": false
   },
   "outputs": [
    {
     "data": {
      "text/plain": [
       "[<matplotlib.lines.Line2D at 0xbe1eb00>]"
      ]
     },
     "execution_count": 12,
     "metadata": {},
     "output_type": "execute_result"
    },
    {
     "data": {
      "image/png": "[encoded data removed]",
      "text/plain": [
       "<matplotlib.figure.Figure at 0xc0def28>"
      ]
     },
     "metadata": {},
     "output_type": "display_data"
    }
   ],
   "source": [
    "plt.plot(pca.explained_variance_ratio_)"
   ]
  },
  {
   "cell_type": "code",
   "execution_count": 30,
   "metadata": {
    "collapsed": false
   },
   "outputs": [
    {
     "name": "stdout",
     "output_type": "stream",
     "text": [
      "Wall time: 58.2 s\n"
     ]
    }
   ],
   "source": [
    "%%time\n",
    "\n",
    "pca = decomposition.PCA(n_components=20)\n",
    "pca.fit(X.toarray())\n",
    "X_pca = pca.transform(X.toarray())"
   ]
  },
  {
   "cell_type": "code",
   "execution_count": 32,
   "metadata": {
    "collapsed": false
   },
   "outputs": [
    {
     "name": "stdout",
     "output_type": "stream",
     "text": [
      "0.313232837462\n"
     ]
    },
    {
     "data": {
      "image/png": "[encoded data removed]",
      "text/plain": [
       "<matplotlib.figure.Figure at 0xbff7710>"
      ]
     },
     "metadata": {},
     "output_type": "display_data"
    }
   ],
   "source": [
    "model_rfc(X_pca, Y)"
   ]
  },
  {
   "cell_type": "code",
   "execution_count": 44,
   "metadata": {
    "collapsed": true
   },
   "outputs": [],
   "source": [
    "def transform(documents):\n",
    "    ## some handcrafted features!\n",
    "    n_words = [len(c.split()) for c in documents]\n",
    "    n_chars = [len(c) for c in documents]\n",
    "    # number of uppercase words\n",
    "    allcaps = [np.sum([w.isupper() for w in comment.split()])\n",
    "           for comment in documents]\n",
    "    # longest word\n",
    "    max_word_len = [np.max([len(w) for w in c.split()]) for c in documents]\n",
    "    # average word length\n",
    "    mean_word_len = [np.mean([len(w) for w in c.split()])\n",
    "                                        for c in documents]\n",
    "    # number of google badwords:\n",
    "    # n_bad = [np.sum([c.lower().count(w) for w in self.badwords_])\n",
    "    #                                        for c in documents]\n",
    "    exclamation = [c.count(\"!\") for c in documents]\n",
    "    addressing = [c.count(\"@\") for c in documents]\n",
    "    spaces = [c.count(\" \") for c in documents]\n",
    "\n",
    "    allcaps_ratio = np.array(allcaps) / np.array(n_words, dtype=np.float)\n",
    "    # bad_ratio = np.array(n_bad) / np.array(n_words, dtype=np.float)\n",
    "\n",
    "    return np.array([n_words, n_chars, max_word_len,\n",
    "        mean_word_len, spaces,\n",
    "        allcaps_ratio]).T"
   ]
  },
  {
   "cell_type": "code",
   "execution_count": 46,
   "metadata": {
    "collapsed": false
   },
   "outputs": [
    {
     "name": "stdout",
     "output_type": "stream",
     "text": [
      "1.16195767895\n"
     ]
    },
    {
     "data": {
      "image/png": "[encoded data removed]",
      "text/plain": [
       "<matplotlib.figure.Figure at 0xbec6438>"
      ]
     },
     "metadata": {},
     "output_type": "display_data"
    }
   ],
   "source": [
    "model_rfc(transform(data.comment), Y)"
   ]
  },
  {
   "cell_type": "code",
   "execution_count": 47,
   "metadata": {
    "collapsed": false
   },
   "outputs": [
    {
     "name": "stdout",
     "output_type": "stream",
     "text": [
      "0.415167841777\n"
     ]
    },
    {
     "data": {
      "image/png": "[encoded data removed]",
      "text/plain": [
       "<matplotlib.figure.Figure at 0xd2834a8>"
      ]
     },
     "metadata": {},
     "output_type": "display_data"
    }
   ],
   "source": [
    "model_rfc(np.concatenate((X_pca, transform(data.comment)), axis=1), Y)"
   ]
  },
  {
   "cell_type": "code",
   "execution_count": null,
   "metadata": {
    "collapsed": true
   },
   "outputs": [],
   "source": []
  }
 ],
 "metadata": {
  "anaconda-cloud": {},
  "kernelspec": {
   "display_name": "Python [default]",
   "language": "python",
   "name": "python3"
  },
  "language_info": {
   "codemirror_mode": {
    "name": "ipython",
    "version": 3
   },
   "file_extension": ".py",
   "mimetype": "text/x-python",
   "name": "python",
   "nbconvert_exporter": "python",
   "pygments_lexer": "ipython3",
   "version": "3.5.2"
  }
 },
 "nbformat": 4,
 "nbformat_minor": 1
}
